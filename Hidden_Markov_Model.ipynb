{
 "cells": [
  {
   "cell_type": "code",
   "execution_count": 1,
   "metadata": {},
   "outputs": [],
   "source": [
    "import numpy as np\n",
    "import pandas as pd\n",
    "import matplotlib.pyplot as plt"
   ]
  },
  {
   "cell_type": "markdown",
   "metadata": {},
   "source": [
    "## Data Preprocessing"
   ]
  },
  {
   "cell_type": "code",
   "execution_count": 2,
   "metadata": {},
   "outputs": [],
   "source": [
    "# load data\n",
    "df_1 = pd.read_csv('pdb_data_no_dups.csv')\n",
    "df_2 = pd.read_csv('pdb_data_seq.csv')"
   ]
  },
  {
   "cell_type": "code",
   "execution_count": 3,
   "metadata": {},
   "outputs": [],
   "source": [
    "def data_preprocess(df_info, df_seqs):\n",
    "    '''\n",
    "    Preprocess csv protein sequence and information data\n",
    "    Input:\n",
    "    df_info: pd dataframe from info csv\n",
    "    df_seqs: pd dataframe from sequence csv\n",
    "    Output:\n",
    "    df_new: joint preprocessed pd dataframe\n",
    "    '''\n",
    "    \n",
    "    # remove unwanted features\n",
    "    df_1= df_info.drop(['experimentalTechnique', 'residueCount', 'resolution',\n",
    "       'structureMolecularWeight', 'crystallizationMethod',\n",
    "       'crystallizationTempK', 'densityMatthews', 'densityPercentSol',\n",
    "       'pdbxDetails', 'phValue', 'publicationYear'], axis=1) \n",
    "    df_2= df_seqs.drop(['chainId', 'residueCount'], axis=1) \n",
    "    \n",
    "    # drop duplicated based on structureId\n",
    "    df1 = df_1.drop_duplicates(subset='structureId', keep='first',inplace=False)\n",
    "    df2 = df_2.drop_duplicates(subset='structureId', keep='first',inplace=False)\n",
    "    \n",
    "    # join two dataframes\n",
    "    df = pd.merge(df1, df2, left_on='structureId', right_on='structureId')\n",
    "    \n",
    "    # select only protein sequences\n",
    "    df_select= df[df['macromoleculeType_x']=='Protein']\n",
    "    \n",
    "    # remove feature indicating it is protein sequences\n",
    "    df_select = df_select.drop(['macromoleculeType_x', 'macromoleculeType_y'], axis=1) \n",
    "    \n",
    "    \n",
    "    # remove duplicate sequences and NA values\n",
    "    df_new = df_select.drop_duplicates(subset='sequence', keep='first',inplace=False)\n",
    "    df_new = df_new.dropna(how='any')\n",
    "    \n",
    "    # rename structureId to Id\n",
    "    df_new.columns = ['Id', 'classification',  'sequence']\n",
    "    \n",
    "    return df_new"
   ]
  },
  {
   "cell_type": "code",
   "execution_count": 4,
   "metadata": {},
   "outputs": [],
   "source": [
    "df = data_preprocess(df_1, df_2)"
   ]
  },
  {
   "cell_type": "code",
   "execution_count": 5,
   "metadata": {},
   "outputs": [
    {
     "data": {
      "text/plain": [
       "classification\n",
       "HYDROLASE                                10782\n",
       "IMMUNE SYSTEM                             2495\n",
       "ISOMERASE                                 1540\n",
       "LIGASE                                    1261\n",
       "LYASE                                     2335\n",
       "MEMBRANE PROTEIN                          1118\n",
       "OXIDOREDUCTASE                            6242\n",
       "PROTEIN BINDING                           1381\n",
       "SIGNALING PROTEIN                         1914\n",
       "STRUCTURAL GENOMICS, UNKNOWN FUNCTION     1515\n",
       "TRANSCRIPTION                             2135\n",
       "TRANSFERASE                               8122\n",
       "TRANSPORT PROTEIN                         1837\n",
       "UNKNOWN FUNCTION                          1033\n",
       "VIRAL PROTEIN                             1499\n",
       "Name: Id, dtype: int64"
      ]
     },
     "execution_count": 5,
     "metadata": {},
     "output_type": "execute_result"
    }
   ],
   "source": [
    "# count number of sequences in each classification\n",
    "count = df.groupby('classification')['Id'].nunique()\n",
    "count[count > 1000]"
   ]
  },
  {
   "cell_type": "code",
   "execution_count": 6,
   "metadata": {},
   "outputs": [
    {
     "name": "stdout",
     "output_type": "stream",
     "text": [
      "HYDROLASE/UNKNOWN FUNCTION 1\n",
      "METAL BINDING PROTEIN, UNKNOWN FUNCTION 2\n",
      "METAL BINDING PROTEIN,UNKNOWN FUNCTION 1\n",
      "ONCOPROTEIN,UNKNOWN FUNCTION 1\n",
      "STRUCTURAL GENOMICS  UNKNOWN FUNCTION 1\n",
      "STRUCTURAL GENOMICS UNKNOWN FUNCTION 2\n",
      "STRUCTURAL GENOMICS,   UNKNOWN FUNCTION 2\n",
      "STRUCTURAL GENOMICS,  UNKNOWN FUNCTION 5\n",
      "STRUCTURAL GENOMICS, UNKNOWN FUNCTION 1515\n",
      "STRUCTURAL GENOMICS,UNKNOWN FUNCTION 6\n",
      "Structural Genomics, UNKNOWN FUNCTION 7\n",
      "Structural genomics, UNKNOWN FUNCTION 1\n",
      "TRANSPORT PROTEIN/UNKNOWN FUNCTION 1\n",
      "UNKNOWN BACTERIAL HYDROLASE 1\n",
      "UNKNOWN FUNCTION 1033\n",
      "UNKNOWN FUNCTION, PROTEIN BINDING 1\n",
      "UNKNOWN FUNCTION, STRUCTURAL GENOMICS 2\n",
      "UNKNOWN FUNCTION/IMMUNE SYSTEM 2\n",
      "UNKNOWN FUNCTION/Ligase 1\n",
      "UNKNOWN PROTEIN 1\n",
      "VIRAL PROTEIN, UNKNOWN FUNCTION 2\n"
     ]
    }
   ],
   "source": [
    "# unkown classifications\n",
    "for i, row in enumerate(count):\n",
    "    name = count.index[i]\n",
    "    if 'UNKNOWN' in name:\n",
    "        print(count.index[i], row)"
   ]
  },
  {
   "cell_type": "code",
   "execution_count": 7,
   "metadata": {},
   "outputs": [],
   "source": [
    "def seq_dict(df,n_min = 1000,include_unknown = False):\n",
    "    '''\n",
    "    Input:\n",
    "    df: joint preprocessed dataframe\n",
    "    n_min: minimum number of sequences for a given classification\n",
    "    include_unknown: boolean indicating whether to include unknown classifications \n",
    "    Output:\n",
    "    seqs_dict: dictionary with classifications as keys and corrresponding sequences dataframe as values\n",
    "    '''\n",
    "    # count number of sequences in each classification\n",
    "    df_count = df.groupby('classification')['Id'].nunique()\n",
    "    \n",
    "    # retrieve indices of classifications that satitisfy minimum number requirements\n",
    "    idx= list(df_count[df_count > n_min].index)\n",
    "    \n",
    "    # init dictionary\n",
    "    seqs_dict =  dict()\n",
    "    for typ in idx:\n",
    "        # including unknown classfications\n",
    "        if include_unknown:\n",
    "            # store selected sections of dataframe to the corresponding key\n",
    "            seqs_dict[typ] = df[df['classification'] == typ]\n",
    "        # not including unknown classifications\n",
    "        else:\n",
    "            if 'UNKNOWN' not in typ:\n",
    "                # store selected sections of dataframe to the corresponding key\n",
    "                seqs_dict[typ] = df[df['classification'] == typ]\n",
    "    return seqs_dict"
   ]
  },
  {
   "cell_type": "code",
   "execution_count": 8,
   "metadata": {},
   "outputs": [],
   "source": [
    "seqs_dict = seq_dict(df)\n",
    "#seqs_dict.keys()"
   ]
  },
  {
   "cell_type": "code",
   "execution_count": 9,
   "metadata": {},
   "outputs": [],
   "source": [
    "class_totals = dict()\n",
    "seq_ids = []\n",
    "for i in seqs_dict:\n",
    "    count = 0\n",
    "    cls = seqs_dict[i]\n",
    "    for j in cls.Id:\n",
    "        count += 1\n",
    "    class_totals[i] = count\n"
   ]
  },
  {
   "cell_type": "markdown",
   "metadata": {},
   "source": [
    "## Hidden Markov Model"
   ]
  },
  {
   "cell_type": "code",
   "execution_count": 10,
   "metadata": {
    "scrolled": true
   },
   "outputs": [],
   "source": [
    "#Remove worst 3 rates\n",
    "del seqs_dict['HYDROLASE']\n",
    "del seqs_dict['TRANSFERASE']\n",
    "del seqs_dict['SIGNALING PROTEIN']"
   ]
  },
  {
   "cell_type": "code",
   "execution_count": 11,
   "metadata": {},
   "outputs": [],
   "source": [
    "#Declare important dictionaries\n",
    "rates = dict()\n",
    "static = dict()\n",
    "beg_seq = dict()\n",
    "def make_2D():\n",
    "    r = []\n",
    "    a = 0\n",
    "    b = 0\n",
    "    while a < 26:\n",
    "        r.append(list())\n",
    "        b = 0\n",
    "        while b < 26:\n",
    "            r[a].append(0)\n",
    "            b += 1\n",
    "        a += 1\n",
    "    return r\n",
    "\n",
    "j = 0\n",
    "for i in seqs_dict:\n",
    "    rates[i] = make_2D()\n",
    "    static[i] = list()\n",
    "    beg_seq[i] = list()\n",
    "    j += 1\n",
    "for i in static:\n",
    "    j = 0\n",
    "    while j < 26:\n",
    "        static[i].append(0)\n",
    "        beg_seq[i].append(0)\n",
    "        j += 1\n"
   ]
  },
  {
   "cell_type": "code",
   "execution_count": 12,
   "metadata": {},
   "outputs": [],
   "source": [
    "#Translate Amino Acid to num (0-25)\n",
    "def decode(letter):\n",
    "    return ord(letter) - 65"
   ]
  },
  {
   "cell_type": "code",
   "execution_count": 13,
   "metadata": {
    "scrolled": true
   },
   "outputs": [],
   "source": [
    "# Learning: normalizing rates of transition\n",
    "#    for each letter y from x to the total \n",
    "#    probability of seeing letter x\n",
    "\n",
    "for x in seqs_dict:\n",
    "    brk = 0\n",
    "    i = 0\n",
    "    cnt = 0\n",
    "    sq_cnt = 0\n",
    "    for j in seqs_dict[x].sequence:\n",
    "        sq_cnt += 1\n",
    "        if sq_cnt >= (class_totals[x]): ## / 10): used for training off % of given sequences per class\n",
    "            c1 = 0\n",
    "            c2 = 0\n",
    "            while c1 < 26:\n",
    "                stat_tot = 0\n",
    "                row_tot = 0\n",
    "                c2 = 0\n",
    "                while c2 < 26:\n",
    "                    if c1 == 0:\n",
    "                        stat_tot += static[x][c2]\n",
    "                    row_tot += rates[x][c1][c2]\n",
    "                    c2 += 1\n",
    "                c2 = 0\n",
    "                while c2 < 26:\n",
    "                    if stat_tot > 0 and c1 == 0:\n",
    "                        static[x][c2] = (static[x][c2] / stat_tot)\n",
    "                        beg_seq[x][c2] = (beg_seq[x][c2] / class_totals[x])\n",
    "                    if row_tot != 0:\n",
    "                        rates[x][c1][c2] = (rates[x][c1][c2] / row_tot)\n",
    "                    c2 += 1\n",
    "                c1 += 1\n",
    "            break\n",
    "        i = 0 \n",
    "        for l in j:\n",
    "            if i == 0:\n",
    "                i += 1\n",
    "                prev = l\n",
    "                beg_seq[x][decode(prev)] += 1\n",
    "                continue\n",
    "            a = decode(prev)\n",
    "            b = decode(l)\n",
    "            rates[x][a][b] += 1\n",
    "            static[x][b] += 1\n",
    "            prev = l\n",
    "            i += 1\n",
    "            cnt += 1"
   ]
  },
  {
   "cell_type": "code",
   "execution_count": 14,
   "metadata": {},
   "outputs": [],
   "source": [
    "#Creates dictionary for each type of protein within dictionary\n",
    "#   for purpose of 2D dictionary\n",
    "seq_list = dict()\n",
    "for x in seqs_dict:\n",
    "    seq_list[x] = list()\n",
    "    c = 0\n",
    "    for b in seqs_dict[x].sequence:\n",
    "        seq_list[x].append(b)\n"
   ]
  },
  {
   "cell_type": "code",
   "execution_count": 15,
   "metadata": {},
   "outputs": [],
   "source": [
    "#Grading function to grade the likelihood of a sequence\n",
    "#   belonging to each family, returns top 3\n",
    "def gr(rates, static, beg_seq, sequence):\n",
    "    first_let = \"\"\n",
    "    grade = dict()\n",
    "    for x in seqs_dict:\n",
    "        grade[x] = 0\n",
    "    i = 0\n",
    "    for let in sequence:\n",
    "        if i == 0:\n",
    "            i += 1\n",
    "            first_let = let\n",
    "            prev = let\n",
    "            continue\n",
    "        a = decode(prev)\n",
    "        b = decode(let)\n",
    "        prev = let\n",
    "        for x in seqs_dict:\n",
    "            grade[x] += rates[x][a][b]\n",
    "    largest = [\"\",\"\",\"\"]\n",
    "    value = [0,0,0]\n",
    "    for x in seqs_dict:\n",
    "        grade[x] = grade[x] + beg_seq[x][decode(first_let)]\n",
    "        if grade[x] > value[0]:\n",
    "            largest[2] = largest[1]\n",
    "            largest[1] = largest[0]\n",
    "            largest[0] = x\n",
    "            value[2] = value[1]\n",
    "            value[1] = value[0]\n",
    "            value[0] = grade[x]\n",
    "        elif grade[x] > value[1]:\n",
    "            largest[2] = largest[1]\n",
    "            largest[1] = x\n",
    "            value[2] = value[1]\n",
    "            value[1] = grade[x]\n",
    "        elif grade[x] > value[2]:\n",
    "            largest[2] = x\n",
    "            value[2] = grade[x]\n",
    "    return(largest)"
   ]
  },
  {
   "cell_type": "code",
   "execution_count": 16,
   "metadata": {
    "scrolled": false
   },
   "outputs": [
    {
     "name": "stdout",
     "output_type": "stream",
     "text": [
      "7112 3630 3512 7589\n",
      "0.325596300874422 0.16618596346655679 0.16078377512246486 0.34743396053655634\n"
     ]
    }
   ],
   "source": [
    "first = 0\n",
    "second = 0\n",
    "third = 0\n",
    "wrong = 0\n",
    "seq_num = 0\n",
    "top3 = [\"\",\"\",\"\"]\n",
    "\n",
    "#Create confusion matrix\n",
    "confusion = dict()\n",
    "i = 0\n",
    "for x in seq_list:\n",
    "    confusion[x] = dict()\n",
    "    for y in seq_list:\n",
    "        confusion[x][y] = 0\n",
    "\n",
    "\n",
    "for x in seq_list:\n",
    "    seq_num = 0\n",
    "    for y in seq_list[x]:\n",
    "        # Used for training off % of given sequences per class\n",
    "        #if seq_num < (class_totals[x] / 10):\n",
    "        #    seq_num += 1\n",
    "        #    continue\n",
    "        top3 = gr(rates, static, beg_seq, y)\n",
    "        if top3[0] == x:\n",
    "            first += 1\n",
    "        elif top3[1] == x:\n",
    "            second += 1\n",
    "        elif top3[2] == x:\n",
    "            third += 1\n",
    "        else:\n",
    "            #wr[x] += 1\n",
    "            wrong += 1\n",
    "        confusion[x][top3[0]] += 1\n",
    "\n",
    "# Show the # top, 2nd and 3rd classifications correct, and outside top 3\n",
    "# Show those percentages\n",
    "print(first, second, third, wrong)\n",
    "print(first/(first + second + third + wrong), second/(first + second + third + wrong), third/(first + second + third + wrong), wrong/(first + second + third + wrong))"
   ]
  },
  {
   "cell_type": "markdown",
   "metadata": {},
   "source": [
    "Graphical Representation"
   ]
  },
  {
   "cell_type": "code",
   "execution_count": 17,
   "metadata": {},
   "outputs": [
    {
     "name": "stdout",
     "output_type": "stream",
     "text": [
      "[0.325596300874422, 0.6525660394634437, 0.34743396053655634]\n"
     ]
    },
    {
     "data": {
      "image/png": "[encoded data removed]",
      "text/plain": [
       "<Figure size 432x288 with 1 Axes>"
      ]
     },
     "metadata": {
      "needs_background": "light"
     },
     "output_type": "display_data"
    }
   ],
   "source": [
    "names = ['Most Likely', 'Top Three Most Likely', 'Outside Top Three']\n",
    "values = [first/(first+second+third+wrong), (first+second+third)/(first+second+third+wrong), wrong/(first+second+third+wrong)]\n",
    "plt.bar(names, values)\n",
    "plt.suptitle('Correct Classification Accuracy (10 Sequences)')\n",
    "print(values)"
   ]
  },
  {
   "cell_type": "code",
   "execution_count": 18,
   "metadata": {},
   "outputs": [
    {
     "data": {
      "text/plain": [
       "Text(0.5, 0.98, 'Classification Breakdown (10 Sequences)')"
      ]
     },
     "execution_count": 18,
     "metadata": {},
     "output_type": "execute_result"
    },
    {
     "data": {
      "image/png": "[encoded data removed]",
      "text/plain": [
       "<Figure size 432x288 with 1 Axes>"
      ]
     },
     "metadata": {
      "needs_background": "light"
     },
     "output_type": "display_data"
    }
   ],
   "source": [
    "classif = [first, second, third, wrong]\n",
    "names2 = ['# Correct','# Second Choice','# Third Choice','# Outside Top 3']\n",
    "plt.bar(names2, classif)\n",
    "plt.suptitle('Classification Breakdown (10 Sequences)')"
   ]
  },
  {
   "cell_type": "code",
   "execution_count": 19,
   "metadata": {},
   "outputs": [
    {
     "name": "stdout",
     "output_type": "stream",
     "text": [
      "[[0.7527054108216433, 0.038877755511022044, 0.013627254509018036, 0.039679358717434866, 0.019238476953907815, 0.0028056112224448897, 0.04609218436873747, 0.05410821643286573, 0.018837675350701404, 0.014028056112224449], [0.02922077922077922, 0.5409090909090909, 0.031818181818181815, 0.23376623376623376, 0.006493506493506494, 0.005844155844155844, 0.05909090909090909, 0.033116883116883114, 0.05714285714285714, 0.0025974025974025974], [0.04440919904837431, 0.22521808088818399, 0.18080888183980967, 0.25773195876288657, 0.017446471054718478, 0.004758128469468675, 0.08643933386201427, 0.12450436161776368, 0.05551149881046788, 0.0031720856463124504], [0.050107066381156314, 0.19743040685224839, 0.02226980728051392, 0.5845824411134903, 0.014561027837259101, 0.008565310492505354, 0.029122055674518203, 0.042826552462526764, 0.04925053533190578, 0.001284796573875803], [0.11717352415026834, 0.07155635062611806, 0.02146690518783542, 0.13059033989266547, 0.3613595706618962, 0.007155635062611807, 0.07960644007155634, 0.09570661896243292, 0.11001788908765653, 0.005366726296958855], [0.022909323934636336, 0.30166613264979175, 0.044697212431912846, 0.37792374239025955, 0.024030759371996155, 0.08795257930150593, 0.03364306312079462, 0.043095161807113105, 0.06103812880487024, 0.003043896187119513], [0.13685734974656047, 0.12382331643736423, 0.03403330919623461, 0.15061549601737872, 0.0391020999275887, 0.00941346850108617, 0.2606806661839247, 0.1788559015206372, 0.05286024619840695, 0.013758146270818247], [0.10866510538641687, 0.117096018735363, 0.04309133489461359, 0.16580796252927402, 0.019672131147540985, 0.005620608899297424, 0.11007025761124122, 0.37517564402810305, 0.05011709601873536, 0.00468384074941452], [0.06641262928688078, 0.130647795318454, 0.03483941208492107, 0.18562874251497005, 0.16058791507893305, 0.002177463255307567, 0.08219923788786064, 0.10016330974414807, 0.23244420250408274, 0.004899292324442025], [0.2028018679119413, 0.12741827885256837, 0.02134756504336224, 0.1400933955970647, 0.06737825216811208, 0.01467645096731154, 0.0800533689126084, 0.09739826551034023, 0.07071380920613743, 0.1781187458305537]]\n"
     ]
    }
   ],
   "source": [
    "#print (confusion)\n",
    "#for x in confusion:\n",
    "#    print(x, confusion[x])\n",
    "#print(\" \")\n",
    "classes = list()\n",
    "for x in confusion:\n",
    "    classes.append(x)\n",
    "    sm = 0\n",
    "    for y in confusion:\n",
    "        sm += confusion[x][y]\n",
    "    for y in confusion:\n",
    "        confusion[x][y] = confusion[x][y] / sm\n",
    "cfsn = list()\n",
    "tick_marks = [0,1,2,3,4,5,6,7,8,9]\n",
    "i = 0\n",
    "j = 0\n",
    "for x in seqs_dict:\n",
    "    cfsn.append(list())\n",
    "    for y in seqs_dict:\n",
    "        cfsn[i].append(confusion[x][y])\n",
    "    i += 1\n",
    "print(cfsn)\n",
    "#while i < 10:\n",
    "#    while j < 10:"
   ]
  },
  {
   "cell_type": "code",
   "execution_count": 20,
   "metadata": {
    "scrolled": true
   },
   "outputs": [
    {
     "data": {
      "text/plain": [
       "Text(0.5, 1.0, 'Confusion Matrix')"
      ]
     },
     "execution_count": 20,
     "metadata": {},
     "output_type": "execute_result"
    },
    {
     "data": {
      "image/png": "[encoded data removed]",
      "text/plain": [
       "<Figure size 720x720 with 2 Axes>"
      ]
     },
     "metadata": {
      "needs_background": "light"
     },
     "output_type": "display_data"
    }
   ],
   "source": [
    "plt.figure(figsize=(10,10))\n",
    "plt.imshow(cfsn, cmap = plt.cm.Blues)\n",
    "plt.colorbar()\n",
    "plt.xticks(tick_marks, classes, rotation=90)\n",
    "plt.yticks(tick_marks, classes,)\n",
    "plt.ylabel('True label',fontsize = 16)\n",
    "plt.xlabel('Predicted label',fontsize = 16)\n",
    "plt.title('Confusion Matrix', fontsize = 16)"
   ]
  },
  {
   "cell_type": "code",
   "execution_count": null,
   "metadata": {},
   "outputs": [],
   "source": []
  }
 ],
 "metadata": {
  "kernelspec": {
   "display_name": "Python 3",
   "language": "python",
   "name": "python3"
  },
  "language_info": {
   "codemirror_mode": {
    "name": "ipython",
    "version": 3
   },
   "file_extension": ".py",
   "mimetype": "text/x-python",
   "name": "python",
   "nbconvert_exporter": "python",
   "pygments_lexer": "ipython3",
   "version": "3.7.3"
  }
 },
 "nbformat": 4,
 "nbformat_minor": 2
}
