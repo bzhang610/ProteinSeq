{
 "cells": [
  {
   "cell_type": "code",
   "execution_count": 1,
   "metadata": {},
   "outputs": [],
   "source": [
    "import numpy as np\n",
    "import pandas as pd"
   ]
  },
  {
   "cell_type": "markdown",
   "metadata": {},
   "source": [
    "## Data Preprocessing"
   ]
  },
  {
   "cell_type": "markdown",
   "metadata": {},
   "source": [
    "### Load and clean data"
   ]
  },
  {
   "cell_type": "code",
   "execution_count": 2,
   "metadata": {},
   "outputs": [],
   "source": [
    "# load data\n",
    "df_1 = pd.read_csv('pdb_data_no_dups.csv')\n",
    "df_2 = pd.read_csv('pdb_data_seq.csv')"
   ]
  },
  {
   "cell_type": "code",
   "execution_count": 3,
   "metadata": {},
   "outputs": [
    {
     "data": {
      "text/html": [
       "<div>\n",
       "<style scoped>\n",
       "    .dataframe tbody tr th:only-of-type {\n",
       "        vertical-align: middle;\n",
       "    }\n",
       "\n",
       "    .dataframe tbody tr th {\n",
       "        vertical-align: top;\n",
       "    }\n",
       "\n",
       "    .dataframe thead th {\n",
       "        text-align: right;\n",
       "    }\n",
       "</style>\n",
       "<table border=\"1\" class=\"dataframe\">\n",
       "  <thead>\n",
       "    <tr style=\"text-align: right;\">\n",
       "      <th></th>\n",
       "      <th>structureId</th>\n",
       "      <th>classification</th>\n",
       "      <th>experimentalTechnique</th>\n",
       "      <th>macromoleculeType</th>\n",
       "      <th>residueCount</th>\n",
       "      <th>resolution</th>\n",
       "      <th>structureMolecularWeight</th>\n",
       "      <th>crystallizationMethod</th>\n",
       "      <th>crystallizationTempK</th>\n",
       "      <th>densityMatthews</th>\n",
       "      <th>densityPercentSol</th>\n",
       "      <th>pdbxDetails</th>\n",
       "      <th>phValue</th>\n",
       "      <th>publicationYear</th>\n",
       "    </tr>\n",
       "  </thead>\n",
       "  <tbody>\n",
       "    <tr>\n",
       "      <th>0</th>\n",
       "      <td>100D</td>\n",
       "      <td>DNA-RNA HYBRID</td>\n",
       "      <td>X-RAY DIFFRACTION</td>\n",
       "      <td>DNA/RNA Hybrid</td>\n",
       "      <td>20</td>\n",
       "      <td>1.90</td>\n",
       "      <td>6360.30</td>\n",
       "      <td>VAPOR DIFFUSION, HANGING DROP</td>\n",
       "      <td>NaN</td>\n",
       "      <td>1.78</td>\n",
       "      <td>30.89</td>\n",
       "      <td>pH 7.00, VAPOR DIFFUSION, HANGING DROP</td>\n",
       "      <td>7.0</td>\n",
       "      <td>1994.0</td>\n",
       "    </tr>\n",
       "    <tr>\n",
       "      <th>1</th>\n",
       "      <td>101D</td>\n",
       "      <td>DNA</td>\n",
       "      <td>X-RAY DIFFRACTION</td>\n",
       "      <td>DNA</td>\n",
       "      <td>24</td>\n",
       "      <td>2.25</td>\n",
       "      <td>7939.35</td>\n",
       "      <td>NaN</td>\n",
       "      <td>NaN</td>\n",
       "      <td>2.00</td>\n",
       "      <td>38.45</td>\n",
       "      <td>NaN</td>\n",
       "      <td>NaN</td>\n",
       "      <td>1995.0</td>\n",
       "    </tr>\n",
       "    <tr>\n",
       "      <th>2</th>\n",
       "      <td>101M</td>\n",
       "      <td>OXYGEN TRANSPORT</td>\n",
       "      <td>X-RAY DIFFRACTION</td>\n",
       "      <td>Protein</td>\n",
       "      <td>154</td>\n",
       "      <td>2.07</td>\n",
       "      <td>18112.80</td>\n",
       "      <td>NaN</td>\n",
       "      <td>NaN</td>\n",
       "      <td>3.09</td>\n",
       "      <td>60.20</td>\n",
       "      <td>3.0 M AMMONIUM SULFATE, 20 MM TRIS, 1MM EDTA, ...</td>\n",
       "      <td>9.0</td>\n",
       "      <td>1999.0</td>\n",
       "    </tr>\n",
       "    <tr>\n",
       "      <th>3</th>\n",
       "      <td>102D</td>\n",
       "      <td>DNA</td>\n",
       "      <td>X-RAY DIFFRACTION</td>\n",
       "      <td>DNA</td>\n",
       "      <td>24</td>\n",
       "      <td>2.20</td>\n",
       "      <td>7637.17</td>\n",
       "      <td>VAPOR DIFFUSION, SITTING DROP</td>\n",
       "      <td>277.0</td>\n",
       "      <td>2.28</td>\n",
       "      <td>46.06</td>\n",
       "      <td>pH 7.00, VAPOR DIFFUSION, SITTING DROP, temper...</td>\n",
       "      <td>7.0</td>\n",
       "      <td>1995.0</td>\n",
       "    </tr>\n",
       "    <tr>\n",
       "      <th>4</th>\n",
       "      <td>102L</td>\n",
       "      <td>HYDROLASE(O-GLYCOSYL)</td>\n",
       "      <td>X-RAY DIFFRACTION</td>\n",
       "      <td>Protein</td>\n",
       "      <td>165</td>\n",
       "      <td>1.74</td>\n",
       "      <td>18926.61</td>\n",
       "      <td>NaN</td>\n",
       "      <td>NaN</td>\n",
       "      <td>2.75</td>\n",
       "      <td>55.28</td>\n",
       "      <td>NaN</td>\n",
       "      <td>NaN</td>\n",
       "      <td>1993.0</td>\n",
       "    </tr>\n",
       "  </tbody>\n",
       "</table>\n",
       "</div>"
      ],
      "text/plain": [
       "  structureId         classification experimentalTechnique macromoleculeType  \\\n",
       "0        100D         DNA-RNA HYBRID     X-RAY DIFFRACTION    DNA/RNA Hybrid   \n",
       "1        101D                    DNA     X-RAY DIFFRACTION               DNA   \n",
       "2        101M       OXYGEN TRANSPORT     X-RAY DIFFRACTION           Protein   \n",
       "3        102D                    DNA     X-RAY DIFFRACTION               DNA   \n",
       "4        102L  HYDROLASE(O-GLYCOSYL)     X-RAY DIFFRACTION           Protein   \n",
       "\n",
       "   residueCount  resolution  structureMolecularWeight  \\\n",
       "0            20        1.90                   6360.30   \n",
       "1            24        2.25                   7939.35   \n",
       "2           154        2.07                  18112.80   \n",
       "3            24        2.20                   7637.17   \n",
       "4           165        1.74                  18926.61   \n",
       "\n",
       "           crystallizationMethod  crystallizationTempK  densityMatthews  \\\n",
       "0  VAPOR DIFFUSION, HANGING DROP                   NaN             1.78   \n",
       "1                            NaN                   NaN             2.00   \n",
       "2                            NaN                   NaN             3.09   \n",
       "3  VAPOR DIFFUSION, SITTING DROP                 277.0             2.28   \n",
       "4                            NaN                   NaN             2.75   \n",
       "\n",
       "   densityPercentSol                                        pdbxDetails  \\\n",
       "0              30.89             pH 7.00, VAPOR DIFFUSION, HANGING DROP   \n",
       "1              38.45                                                NaN   \n",
       "2              60.20  3.0 M AMMONIUM SULFATE, 20 MM TRIS, 1MM EDTA, ...   \n",
       "3              46.06  pH 7.00, VAPOR DIFFUSION, SITTING DROP, temper...   \n",
       "4              55.28                                                NaN   \n",
       "\n",
       "   phValue  publicationYear  \n",
       "0      7.0           1994.0  \n",
       "1      NaN           1995.0  \n",
       "2      9.0           1999.0  \n",
       "3      7.0           1995.0  \n",
       "4      NaN           1993.0  "
      ]
     },
     "execution_count": 3,
     "metadata": {},
     "output_type": "execute_result"
    }
   ],
   "source": [
    "df_1.head()"
   ]
  },
  {
   "cell_type": "code",
   "execution_count": 4,
   "metadata": {},
   "outputs": [
    {
     "data": {
      "text/html": [
       "<div>\n",
       "<style scoped>\n",
       "    .dataframe tbody tr th:only-of-type {\n",
       "        vertical-align: middle;\n",
       "    }\n",
       "\n",
       "    .dataframe tbody tr th {\n",
       "        vertical-align: top;\n",
       "    }\n",
       "\n",
       "    .dataframe thead th {\n",
       "        text-align: right;\n",
       "    }\n",
       "</style>\n",
       "<table border=\"1\" class=\"dataframe\">\n",
       "  <thead>\n",
       "    <tr style=\"text-align: right;\">\n",
       "      <th></th>\n",
       "      <th>structureId</th>\n",
       "      <th>chainId</th>\n",
       "      <th>sequence</th>\n",
       "      <th>residueCount</th>\n",
       "      <th>macromoleculeType</th>\n",
       "    </tr>\n",
       "  </thead>\n",
       "  <tbody>\n",
       "    <tr>\n",
       "      <th>0</th>\n",
       "      <td>100D</td>\n",
       "      <td>A</td>\n",
       "      <td>CCGGCGCCGG</td>\n",
       "      <td>20</td>\n",
       "      <td>DNA/RNA Hybrid</td>\n",
       "    </tr>\n",
       "    <tr>\n",
       "      <th>1</th>\n",
       "      <td>100D</td>\n",
       "      <td>B</td>\n",
       "      <td>CCGGCGCCGG</td>\n",
       "      <td>20</td>\n",
       "      <td>DNA/RNA Hybrid</td>\n",
       "    </tr>\n",
       "    <tr>\n",
       "      <th>2</th>\n",
       "      <td>101D</td>\n",
       "      <td>A</td>\n",
       "      <td>CGCGAATTCGCG</td>\n",
       "      <td>24</td>\n",
       "      <td>DNA</td>\n",
       "    </tr>\n",
       "    <tr>\n",
       "      <th>3</th>\n",
       "      <td>101D</td>\n",
       "      <td>B</td>\n",
       "      <td>CGCGAATTCGCG</td>\n",
       "      <td>24</td>\n",
       "      <td>DNA</td>\n",
       "    </tr>\n",
       "    <tr>\n",
       "      <th>4</th>\n",
       "      <td>101M</td>\n",
       "      <td>A</td>\n",
       "      <td>MVLSEGEWQLVLHVWAKVEADVAGHGQDILIRLFKSHPETLEKFDR...</td>\n",
       "      <td>154</td>\n",
       "      <td>Protein</td>\n",
       "    </tr>\n",
       "  </tbody>\n",
       "</table>\n",
       "</div>"
      ],
      "text/plain": [
       "  structureId chainId                                           sequence  \\\n",
       "0        100D       A                                         CCGGCGCCGG   \n",
       "1        100D       B                                         CCGGCGCCGG   \n",
       "2        101D       A                                       CGCGAATTCGCG   \n",
       "3        101D       B                                       CGCGAATTCGCG   \n",
       "4        101M       A  MVLSEGEWQLVLHVWAKVEADVAGHGQDILIRLFKSHPETLEKFDR...   \n",
       "\n",
       "   residueCount macromoleculeType  \n",
       "0            20    DNA/RNA Hybrid  \n",
       "1            20    DNA/RNA Hybrid  \n",
       "2            24               DNA  \n",
       "3            24               DNA  \n",
       "4           154           Protein  "
      ]
     },
     "execution_count": 4,
     "metadata": {},
     "output_type": "execute_result"
    }
   ],
   "source": [
    "df_2.head()"
   ]
  },
  {
   "cell_type": "code",
   "execution_count": 5,
   "metadata": {},
   "outputs": [],
   "source": [
    "def data_preprocess(df_info, df_seqs):\n",
    "    '''\n",
    "    Preprocess csv protein sequence and information data\n",
    "    Input:\n",
    "    df_info: pd dataframe from info csv\n",
    "    df_seqs: pd dataframe from sequence csv\n",
    "    Output:\n",
    "    df_new: joint preprocessed pd dataframe\n",
    "    '''\n",
    "    \n",
    "    # remove unwanted features\n",
    "    df_1= df_info.drop(['experimentalTechnique', 'residueCount', 'resolution',\n",
    "       'structureMolecularWeight', 'crystallizationMethod',\n",
    "       'crystallizationTempK', 'densityMatthews', 'densityPercentSol',\n",
    "       'pdbxDetails', 'phValue', 'publicationYear'], axis=1) \n",
    "    df_2= df_seqs.drop(['chainId', 'residueCount'], axis=1) \n",
    "    \n",
    "    # drop duplicated based on structureId\n",
    "    df1 = df_1.drop_duplicates(subset='structureId', keep='first',inplace=False)\n",
    "    df2 = df_2.drop_duplicates(subset='structureId', keep='first',inplace=False)\n",
    "    \n",
    "    # join two dataframes\n",
    "    df = pd.merge(df1, df2, left_on='structureId', right_on='structureId')\n",
    "    \n",
    "    # select only protein sequences\n",
    "    df_select= df[df['macromoleculeType_x']=='Protein']\n",
    "    \n",
    "    # remove feature indicating it is protein sequences\n",
    "    df_select = df_select.drop(['macromoleculeType_x', 'macromoleculeType_y'], axis=1) \n",
    "    \n",
    "    \n",
    "    # remove duplicate sequences and NA values\n",
    "    df_new = df_select.drop_duplicates(subset='sequence', keep='first',inplace=False)\n",
    "    df_new = df_new.dropna(how='any')\n",
    "    \n",
    "    # rename structureId to Id\n",
    "    df_new.columns = ['Id', 'classification',  'sequence']\n",
    "    \n",
    "    return df_new"
   ]
  },
  {
   "cell_type": "code",
   "execution_count": 6,
   "metadata": {},
   "outputs": [],
   "source": [
    "def select_df(df, top_value = 10):\n",
    "    '''\n",
    "    Select classes with most number of sequences\n",
    "    Input:\n",
    "    df: pd dataframe with classification and sequences\n",
    "    top_value: number of classes to be selected \n",
    "    Output:\n",
    "    df_new: pd dataframe contains only the selected classes\n",
    "    '''\n",
    "    # count number of sequences in each classification\n",
    "    count = df.groupby('classification')['Id'].nunique()\n",
    "    sort_count = count.sort_values() # sort values\n",
    "    classes = [i for i in sort_count.index if 'UNKNOWN' not in i] # remove unknown classes\n",
    "    classes = classes[-top_value:] # pick top value classes\n",
    "    print(\"Following classes are selected: \")\n",
    "    print(classes)\n",
    "    # selected rows in df belongs to the selected classes\n",
    "    df_new = df[[c in classes for c in df.classification]]\n",
    "    return df_new"
   ]
  },
  {
   "cell_type": "code",
   "execution_count": 7,
   "metadata": {},
   "outputs": [
    {
     "name": "stdout",
     "output_type": "stream",
     "text": [
      "Following classes are selected: \n",
      "['VIRAL PROTEIN', 'ISOMERASE', 'TRANSPORT PROTEIN', 'SIGNALING PROTEIN', 'TRANSCRIPTION', 'LYASE', 'IMMUNE SYSTEM', 'OXIDOREDUCTASE', 'TRANSFERASE', 'HYDROLASE']\n"
     ]
    }
   ],
   "source": [
    "df = data_preprocess(df_1, df_2)\n",
    "top_value = 10\n",
    "df_new = select_df(df,top_value)"
   ]
  },
  {
   "cell_type": "code",
   "execution_count": 8,
   "metadata": {},
   "outputs": [
    {
     "data": {
      "text/html": [
       "<div>\n",
       "<style scoped>\n",
       "    .dataframe tbody tr th:only-of-type {\n",
       "        vertical-align: middle;\n",
       "    }\n",
       "\n",
       "    .dataframe tbody tr th {\n",
       "        vertical-align: top;\n",
       "    }\n",
       "\n",
       "    .dataframe thead th {\n",
       "        text-align: right;\n",
       "    }\n",
       "</style>\n",
       "<table border=\"1\" class=\"dataframe\">\n",
       "  <thead>\n",
       "    <tr style=\"text-align: right;\">\n",
       "      <th></th>\n",
       "      <th>Id</th>\n",
       "      <th>classification</th>\n",
       "      <th>sequence</th>\n",
       "    </tr>\n",
       "  </thead>\n",
       "  <tbody>\n",
       "    <tr>\n",
       "      <th>2</th>\n",
       "      <td>101M</td>\n",
       "      <td>OXYGEN TRANSPORT</td>\n",
       "      <td>MVLSEGEWQLVLHVWAKVEADVAGHGQDILIRLFKSHPETLEKFDR...</td>\n",
       "    </tr>\n",
       "    <tr>\n",
       "      <th>4</th>\n",
       "      <td>102L</td>\n",
       "      <td>HYDROLASE(O-GLYCOSYL)</td>\n",
       "      <td>MNIFEMLRIDEGLRLKIYKDTEGYYTIGIGHLLTKSPSLNAAAKSE...</td>\n",
       "    </tr>\n",
       "    <tr>\n",
       "      <th>5</th>\n",
       "      <td>102M</td>\n",
       "      <td>OXYGEN TRANSPORT</td>\n",
       "      <td>MVLSEGEWQLVLHVWAKVEADVAGHGQDILIRLFKSHPETLEKFDR...</td>\n",
       "    </tr>\n",
       "    <tr>\n",
       "      <th>7</th>\n",
       "      <td>103L</td>\n",
       "      <td>HYDROLASE(O-GLYCOSYL)</td>\n",
       "      <td>MNIFEMLRIDEGLRLKIYKDTEGYYTIGIGHLLTKSPSLNSLDAAK...</td>\n",
       "    </tr>\n",
       "    <tr>\n",
       "      <th>10</th>\n",
       "      <td>104L</td>\n",
       "      <td>HYDROLASE(O-GLYCOSYL)</td>\n",
       "      <td>MNIFEMLRIDEGLRLKIYKDTEGYYTIGIGHLLTKSPSLNAAKSAA...</td>\n",
       "    </tr>\n",
       "  </tbody>\n",
       "</table>\n",
       "</div>"
      ],
      "text/plain": [
       "      Id         classification  \\\n",
       "2   101M       OXYGEN TRANSPORT   \n",
       "4   102L  HYDROLASE(O-GLYCOSYL)   \n",
       "5   102M       OXYGEN TRANSPORT   \n",
       "7   103L  HYDROLASE(O-GLYCOSYL)   \n",
       "10  104L  HYDROLASE(O-GLYCOSYL)   \n",
       "\n",
       "                                             sequence  \n",
       "2   MVLSEGEWQLVLHVWAKVEADVAGHGQDILIRLFKSHPETLEKFDR...  \n",
       "4   MNIFEMLRIDEGLRLKIYKDTEGYYTIGIGHLLTKSPSLNAAAKSE...  \n",
       "5   MVLSEGEWQLVLHVWAKVEADVAGHGQDILIRLFKSHPETLEKFDR...  \n",
       "7   MNIFEMLRIDEGLRLKIYKDTEGYYTIGIGHLLTKSPSLNSLDAAK...  \n",
       "10  MNIFEMLRIDEGLRLKIYKDTEGYYTIGIGHLLTKSPSLNAAKSAA...  "
      ]
     },
     "execution_count": 8,
     "metadata": {},
     "output_type": "execute_result"
    }
   ],
   "source": [
    "df.head()"
   ]
  },
  {
   "cell_type": "code",
   "execution_count": 9,
   "metadata": {
    "scrolled": true
   },
   "outputs": [
    {
     "data": {
      "text/html": [
       "<div>\n",
       "<style scoped>\n",
       "    .dataframe tbody tr th:only-of-type {\n",
       "        vertical-align: middle;\n",
       "    }\n",
       "\n",
       "    .dataframe tbody tr th {\n",
       "        vertical-align: top;\n",
       "    }\n",
       "\n",
       "    .dataframe thead th {\n",
       "        text-align: right;\n",
       "    }\n",
       "</style>\n",
       "<table border=\"1\" class=\"dataframe\">\n",
       "  <thead>\n",
       "    <tr style=\"text-align: right;\">\n",
       "      <th></th>\n",
       "      <th>Id</th>\n",
       "      <th>classification</th>\n",
       "      <th>sequence</th>\n",
       "    </tr>\n",
       "  </thead>\n",
       "  <tbody>\n",
       "    <tr>\n",
       "      <th>44</th>\n",
       "      <td>117E</td>\n",
       "      <td>HYDROLASE</td>\n",
       "      <td>TYTTRQIGAKNTLEYKVYIEKDGKPVSAFHDIPLYADKENNIFNMV...</td>\n",
       "    </tr>\n",
       "    <tr>\n",
       "      <th>50</th>\n",
       "      <td>11BA</td>\n",
       "      <td>HYDROLASE</td>\n",
       "      <td>KESAAAKFERQHMDSGNSPSSSSNYCNLMMCCRKMTQGKCKPVNTF...</td>\n",
       "    </tr>\n",
       "    <tr>\n",
       "      <th>52</th>\n",
       "      <td>11GS</td>\n",
       "      <td>TRANSFERASE</td>\n",
       "      <td>MPPYTVVYFPVRGRCAALRMLLADQGQSWKEEVVTVETWQEGSLKA...</td>\n",
       "    </tr>\n",
       "    <tr>\n",
       "      <th>170</th>\n",
       "      <td>177L</td>\n",
       "      <td>HYDROLASE</td>\n",
       "      <td>MNIFEMLRIDEGLRLKIYKDTEGYYTIGIGHLLTKSPSLNAAKSEL...</td>\n",
       "    </tr>\n",
       "    <tr>\n",
       "      <th>175</th>\n",
       "      <td>17GS</td>\n",
       "      <td>TRANSFERASE</td>\n",
       "      <td>MPPYTVVYFPVRGRCAALRMLLADQGQSWKEEVVTVETWQEGSLKA...</td>\n",
       "    </tr>\n",
       "  </tbody>\n",
       "</table>\n",
       "</div>"
      ],
      "text/plain": [
       "       Id classification                                           sequence\n",
       "44   117E      HYDROLASE  TYTTRQIGAKNTLEYKVYIEKDGKPVSAFHDIPLYADKENNIFNMV...\n",
       "50   11BA      HYDROLASE  KESAAAKFERQHMDSGNSPSSSSNYCNLMMCCRKMTQGKCKPVNTF...\n",
       "52   11GS    TRANSFERASE  MPPYTVVYFPVRGRCAALRMLLADQGQSWKEEVVTVETWQEGSLKA...\n",
       "170  177L      HYDROLASE  MNIFEMLRIDEGLRLKIYKDTEGYYTIGIGHLLTKSPSLNAAKSEL...\n",
       "175  17GS    TRANSFERASE  MPPYTVVYFPVRGRCAALRMLLADQGQSWKEEVVTVETWQEGSLKA..."
      ]
     },
     "execution_count": 9,
     "metadata": {},
     "output_type": "execute_result"
    }
   ],
   "source": [
    "df_new.head()"
   ]
  },
  {
   "cell_type": "markdown",
   "metadata": {},
   "source": [
    "### Generate X Y data"
   ]
  },
  {
   "cell_type": "markdown",
   "metadata": {},
   "source": [
    "X"
   ]
  },
  {
   "cell_type": "code",
   "execution_count": 10,
   "metadata": {},
   "outputs": [
    {
     "name": "stderr",
     "output_type": "stream",
     "text": [
      "Using TensorFlow backend.\n"
     ]
    }
   ],
   "source": [
    "from keras.preprocessing import text, sequence\n",
    "from keras.preprocessing.text import Tokenizer\n",
    "\n",
    "seqs = df_new.sequence.values\n",
    "lengths = [len(s) for s in seqs]\n",
    "\n",
    "# maximum length of sequence, discard everything else\n",
    "max_length = 256\n",
    "\n",
    "#create and fit tokenizer\n",
    "tokenizer = Tokenizer(char_level=True)\n",
    "tokenizer.fit_on_texts(seqs)\n",
    "\n",
    "#represent input data as word rank number sequences\n",
    "X = tokenizer.texts_to_sequences(seqs)\n",
    "X = sequence.pad_sequences(X, maxlen=max_length)"
   ]
  },
  {
   "cell_type": "markdown",
   "metadata": {},
   "source": [
    "Y"
   ]
  },
  {
   "cell_type": "code",
   "execution_count": 11,
   "metadata": {},
   "outputs": [],
   "source": [
    "from sklearn.preprocessing import LabelBinarizer\n",
    "\n",
    "# Transform labels to one-hot\n",
    "lb = LabelBinarizer()\n",
    "Y = lb.fit_transform(df_new.classification)"
   ]
  },
  {
   "cell_type": "markdown",
   "metadata": {},
   "source": [
    "Check shape"
   ]
  },
  {
   "cell_type": "code",
   "execution_count": 12,
   "metadata": {},
   "outputs": [
    {
     "data": {
      "text/plain": [
       "(38901, 256)"
      ]
     },
     "execution_count": 12,
     "metadata": {},
     "output_type": "execute_result"
    }
   ],
   "source": [
    "X.shape"
   ]
  },
  {
   "cell_type": "code",
   "execution_count": 13,
   "metadata": {},
   "outputs": [
    {
     "data": {
      "text/plain": [
       "(38901, 10)"
      ]
     },
     "execution_count": 13,
     "metadata": {},
     "output_type": "execute_result"
    }
   ],
   "source": [
    "Y.shape"
   ]
  },
  {
   "cell_type": "markdown",
   "metadata": {},
   "source": [
    "## LSTM"
   ]
  },
  {
   "cell_type": "markdown",
   "metadata": {},
   "source": [
    "create top 3 accuracy metric"
   ]
  },
  {
   "cell_type": "code",
   "execution_count": 65,
   "metadata": {},
   "outputs": [],
   "source": [
    "import functools\n",
    "from keras.metrics import top_k_categorical_accuracy\n",
    "top3_acc = functools.partial(top_k_categorical_accuracy, k=3)\n",
    "top3_acc.__name__ = 'top3_acc'"
   ]
  },
  {
   "cell_type": "markdown",
   "metadata": {},
   "source": [
    "Create and complie model"
   ]
  },
  {
   "cell_type": "code",
   "execution_count": 98,
   "metadata": {},
   "outputs": [
    {
     "name": "stdout",
     "output_type": "stream",
     "text": [
      "_________________________________________________________________\n",
      "Layer (type)                 Output Shape              Param #   \n",
      "=================================================================\n",
      "embedding_28 (Embedding)     (None, 256, 20)           520       \n",
      "_________________________________________________________________\n",
      "conv1d_46 (Conv1D)           (None, 254, 512)          31232     \n",
      "_________________________________________________________________\n",
      "dropout_59 (Dropout)         (None, 254, 512)          0         \n",
      "_________________________________________________________________\n",
      "cu_dnnlstm_12 (CuDNNLSTM)    (None, 256)               788480    \n",
      "_________________________________________________________________\n",
      "dropout_60 (Dropout)         (None, 256)               0         \n",
      "_________________________________________________________________\n",
      "dense_59 (Dense)             (None, 128)               32896     \n",
      "_________________________________________________________________\n",
      "dropout_61 (Dropout)         (None, 128)               0         \n",
      "_________________________________________________________________\n",
      "dense_60 (Dense)             (None, 10)                1290      \n",
      "=================================================================\n",
      "Total params: 854,418\n",
      "Trainable params: 854,418\n",
      "Non-trainable params: 0\n",
      "_________________________________________________________________\n"
     ]
    }
   ],
   "source": [
    "from keras.models import Sequential\n",
    "from keras.layers import BatchNormalization, LSTM, Dense, Dropout\n",
    "from keras import backend\n",
    "if len(backend.tensorflow_backend._get_available_gpus()) > 0:\n",
    "    from keras.layers import CuDNNLSTM as LSTM \n",
    "\n",
    "# Hyperparameters\n",
    "dp = 0.6\n",
    "embedding_dim = 20\n",
    "l2_reg = 10e-3\n",
    "\n",
    "# create the model\n",
    "model = Sequential()\n",
    "model.add(Embedding(len(tokenizer.word_index)+1, embedding_dim, input_length=max_length))\n",
    "model.add(Conv1D(filters=512, kernel_size=3, padding='valid', activation='relu'))\n",
    "model.add(Dropout(dp))\n",
    "model.add(LSTM(256))\n",
    "model.add(Dropout(dp))\n",
    "model.add(Dense(128, activation='relu'))\n",
    "model.add(Dropout(dp))\n",
    "model.add(Dense(top_value, activation = 'softmax'))\n",
    "model.compile(optimizer = 'adam', loss = 'categorical_crossentropy',metrics=['accuracy',top3_acc])\n",
    "model.summary()"
   ]
  },
  {
   "cell_type": "markdown",
   "metadata": {},
   "source": [
    "Split train and test sets"
   ]
  },
  {
   "cell_type": "code",
   "execution_count": 99,
   "metadata": {},
   "outputs": [],
   "source": [
    "from sklearn.model_selection import train_test_split\n",
    "X_train, X_test, y_train, y_test = train_test_split(X, Y, test_size=.2)"
   ]
  },
  {
   "cell_type": "markdown",
   "metadata": {},
   "source": [
    "Train model"
   ]
  },
  {
   "cell_type": "code",
   "execution_count": 100,
   "metadata": {},
   "outputs": [
    {
     "name": "stdout",
     "output_type": "stream",
     "text": [
      "Train on 31120 samples, validate on 7781 samples\n",
      "Epoch 1/50\n",
      "31120/31120 [==============================] - 13s 411us/step - loss: 2.0542 - acc: 0.2646 - top3_acc: 0.6408 - val_loss: 1.9905 - val_acc: 0.2880 - val_top3_acc: 0.6686\n",
      "Epoch 2/50\n",
      "31120/31120 [==============================] - 10s 309us/step - loss: 1.9749 - acc: 0.2878 - top3_acc: 0.6735 - val_loss: 1.8780 - val_acc: 0.3100 - val_top3_acc: 0.7011\n",
      "Epoch 3/50\n",
      "31120/31120 [==============================] - 10s 306us/step - loss: 1.9046 - acc: 0.3057 - top3_acc: 0.6925 - val_loss: 1.8112 - val_acc: 0.3231 - val_top3_acc: 0.7120\n",
      "Epoch 4/50\n",
      "31120/31120 [==============================] - 10s 309us/step - loss: 1.8325 - acc: 0.3253 - top3_acc: 0.7037 - val_loss: 1.7994 - val_acc: 0.3443 - val_top3_acc: 0.7009\n",
      "Epoch 5/50\n",
      "31120/31120 [==============================] - 10s 313us/step - loss: 1.8061 - acc: 0.3320 - top3_acc: 0.7092 - val_loss: 1.7376 - val_acc: 0.3512 - val_top3_acc: 0.7246\n",
      "Epoch 6/50\n",
      "31120/31120 [==============================] - 10s 309us/step - loss: 1.7679 - acc: 0.3491 - top3_acc: 0.7189 - val_loss: 1.7196 - val_acc: 0.3816 - val_top3_acc: 0.7223\n",
      "Epoch 7/50\n",
      "31120/31120 [==============================] - 10s 312us/step - loss: 1.7317 - acc: 0.3654 - top3_acc: 0.7251 - val_loss: 1.6886 - val_acc: 0.3894 - val_top3_acc: 0.7315\n",
      "Epoch 8/50\n",
      "31120/31120 [==============================] - 10s 316us/step - loss: 1.6950 - acc: 0.3845 - top3_acc: 0.7309 - val_loss: 1.6423 - val_acc: 0.4167 - val_top3_acc: 0.7391\n",
      "Epoch 9/50\n",
      "31120/31120 [==============================] - 10s 315us/step - loss: 1.6617 - acc: 0.3987 - top3_acc: 0.7379 - val_loss: 1.6382 - val_acc: 0.4172 - val_top3_acc: 0.7400\n",
      "Epoch 10/50\n",
      "31120/31120 [==============================] - 10s 310us/step - loss: 1.6357 - acc: 0.4108 - top3_acc: 0.7416 - val_loss: 1.5796 - val_acc: 0.4308 - val_top3_acc: 0.7478\n",
      "Epoch 11/50\n",
      "31120/31120 [==============================] - 10s 310us/step - loss: 1.6083 - acc: 0.4265 - top3_acc: 0.7444 - val_loss: 1.6111 - val_acc: 0.4146 - val_top3_acc: 0.7432\n",
      "Epoch 12/50\n",
      "31120/31120 [==============================] - 10s 316us/step - loss: 1.5799 - acc: 0.4339 - top3_acc: 0.7459 - val_loss: 1.5406 - val_acc: 0.4535 - val_top3_acc: 0.7550\n",
      "Epoch 13/50\n",
      "31120/31120 [==============================] - 10s 309us/step - loss: 1.5529 - acc: 0.4466 - top3_acc: 0.7524 - val_loss: 1.5703 - val_acc: 0.4327 - val_top3_acc: 0.7521\n",
      "Epoch 14/50\n",
      "31120/31120 [==============================] - 10s 314us/step - loss: 1.5222 - acc: 0.4587 - top3_acc: 0.7560 - val_loss: 1.5058 - val_acc: 0.4601 - val_top3_acc: 0.7604\n",
      "Epoch 15/50\n",
      "31120/31120 [==============================] - 10s 312us/step - loss: 1.5020 - acc: 0.4682 - top3_acc: 0.7627 - val_loss: 1.4648 - val_acc: 0.4841 - val_top3_acc: 0.7662\n",
      "Epoch 16/50\n",
      "31120/31120 [==============================] - 10s 311us/step - loss: 1.4636 - acc: 0.4831 - top3_acc: 0.7713 - val_loss: 1.4198 - val_acc: 0.5020 - val_top3_acc: 0.7791\n",
      "Epoch 17/50\n",
      "31120/31120 [==============================] - 10s 311us/step - loss: 1.4289 - acc: 0.4941 - top3_acc: 0.7756 - val_loss: 1.4165 - val_acc: 0.4999 - val_top3_acc: 0.7746\n",
      "Epoch 18/50\n",
      "31120/31120 [==============================] - 10s 317us/step - loss: 1.4078 - acc: 0.5034 - top3_acc: 0.7794 - val_loss: 1.3860 - val_acc: 0.5155 - val_top3_acc: 0.7838\n",
      "Epoch 19/50\n",
      "31120/31120 [==============================] - 10s 311us/step - loss: 1.3828 - acc: 0.5149 - top3_acc: 0.7868 - val_loss: 1.3501 - val_acc: 0.5295 - val_top3_acc: 0.7912\n",
      "Epoch 20/50\n",
      "31120/31120 [==============================] - 10s 313us/step - loss: 1.3471 - acc: 0.5302 - top3_acc: 0.7931 - val_loss: 1.3258 - val_acc: 0.5364 - val_top3_acc: 0.7964\n",
      "Epoch 21/50\n",
      "31120/31120 [==============================] - 10s 326us/step - loss: 1.3210 - acc: 0.5402 - top3_acc: 0.7988 - val_loss: 1.3371 - val_acc: 0.5402 - val_top3_acc: 0.7891\n",
      "Epoch 22/50\n",
      "31120/31120 [==============================] - 10s 327us/step - loss: 1.2931 - acc: 0.5500 - top3_acc: 0.8037 - val_loss: 1.3044 - val_acc: 0.5583 - val_top3_acc: 0.8063\n",
      "Epoch 23/50\n",
      "31120/31120 [==============================] - 10s 317us/step - loss: 1.2568 - acc: 0.5661 - top3_acc: 0.8104 - val_loss: 1.3022 - val_acc: 0.5565 - val_top3_acc: 0.8052\n",
      "Epoch 24/50\n",
      "31120/31120 [==============================] - 10s 317us/step - loss: 1.2176 - acc: 0.5811 - top3_acc: 0.8175 - val_loss: 1.2570 - val_acc: 0.5720 - val_top3_acc: 0.8089\n",
      "Epoch 25/50\n",
      "31120/31120 [==============================] - 10s 313us/step - loss: 1.1889 - acc: 0.5908 - top3_acc: 0.8243 - val_loss: 1.2780 - val_acc: 0.5684 - val_top3_acc: 0.8107\n",
      "Epoch 26/50\n",
      "31120/31120 [==============================] - 10s 316us/step - loss: 1.1693 - acc: 0.5980 - top3_acc: 0.8289 - val_loss: 1.2204 - val_acc: 0.5895 - val_top3_acc: 0.8189\n",
      "Epoch 27/50\n",
      "31120/31120 [==============================] - 10s 314us/step - loss: 1.1412 - acc: 0.6122 - top3_acc: 0.8328 - val_loss: 1.2154 - val_acc: 0.5925 - val_top3_acc: 0.8140\n",
      "Epoch 28/50\n",
      "31120/31120 [==============================] - 10s 311us/step - loss: 1.1054 - acc: 0.6225 - top3_acc: 0.8433 - val_loss: 1.1931 - val_acc: 0.6040 - val_top3_acc: 0.8224\n",
      "Epoch 29/50\n",
      "31120/31120 [==============================] - 10s 309us/step - loss: 1.0846 - acc: 0.6318 - top3_acc: 0.8478 - val_loss: 1.1880 - val_acc: 0.6142 - val_top3_acc: 0.8244\n",
      "Epoch 30/50\n",
      "31120/31120 [==============================] - 10s 312us/step - loss: 1.0650 - acc: 0.6385 - top3_acc: 0.8500 - val_loss: 1.1843 - val_acc: 0.6225 - val_top3_acc: 0.8287\n",
      "Epoch 31/50\n",
      "31120/31120 [==============================] - 10s 311us/step - loss: 1.0338 - acc: 0.6507 - top3_acc: 0.8544 - val_loss: 1.1584 - val_acc: 0.6234 - val_top3_acc: 0.8315\n",
      "Epoch 32/50\n",
      "31120/31120 [==============================] - 10s 310us/step - loss: 1.0074 - acc: 0.6610 - top3_acc: 0.8580 - val_loss: 1.1539 - val_acc: 0.6278 - val_top3_acc: 0.8298\n",
      "Epoch 33/50\n",
      "31120/31120 [==============================] - 10s 315us/step - loss: 0.9858 - acc: 0.6707 - top3_acc: 0.8627 - val_loss: 1.1454 - val_acc: 0.6336 - val_top3_acc: 0.8356\n",
      "Epoch 34/50\n",
      "31120/31120 [==============================] - 10s 312us/step - loss: 0.9716 - acc: 0.6776 - top3_acc: 0.8662 - val_loss: 1.1248 - val_acc: 0.6294 - val_top3_acc: 0.8345\n",
      "Epoch 35/50\n",
      "31120/31120 [==============================] - 10s 310us/step - loss: 0.9413 - acc: 0.6843 - top3_acc: 0.8731 - val_loss: 1.1533 - val_acc: 0.6409 - val_top3_acc: 0.8347\n",
      "Epoch 36/50\n",
      "31120/31120 [==============================] - 10s 314us/step - loss: 0.9183 - acc: 0.6951 - top3_acc: 0.8764 - val_loss: 1.1349 - val_acc: 0.6439 - val_top3_acc: 0.8412\n",
      "Epoch 37/50\n",
      "31120/31120 [==============================] - 10s 311us/step - loss: 0.9049 - acc: 0.7017 - top3_acc: 0.8797 - val_loss: 1.1508 - val_acc: 0.6464 - val_top3_acc: 0.8391\n",
      "Epoch 38/50\n",
      "31120/31120 [==============================] - 10s 310us/step - loss: 0.8733 - acc: 0.7063 - top3_acc: 0.8870 - val_loss: 1.1509 - val_acc: 0.6506 - val_top3_acc: 0.8397\n",
      "Epoch 39/50\n",
      "31120/31120 [==============================] - 10s 306us/step - loss: 0.8733 - acc: 0.7135 - top3_acc: 0.8861 - val_loss: 1.1414 - val_acc: 0.6524 - val_top3_acc: 0.8403\n",
      "Epoch 40/50\n",
      "31120/31120 [==============================] - 10s 310us/step - loss: 0.8504 - acc: 0.7160 - top3_acc: 0.8890 - val_loss: 1.0980 - val_acc: 0.6576 - val_top3_acc: 0.8409\n",
      "Epoch 41/50\n",
      "31120/31120 [==============================] - 10s 308us/step - loss: 0.8404 - acc: 0.7240 - top3_acc: 0.8924 - val_loss: 1.1519 - val_acc: 0.6518 - val_top3_acc: 0.8419\n",
      "Epoch 42/50\n",
      "31120/31120 [==============================] - 10s 310us/step - loss: 0.8155 - acc: 0.7314 - top3_acc: 0.8964 - val_loss: 1.1553 - val_acc: 0.6616 - val_top3_acc: 0.8418\n",
      "Epoch 43/50\n",
      "31120/31120 [==============================] - 10s 310us/step - loss: 0.7989 - acc: 0.7388 - top3_acc: 0.8996 - val_loss: 1.1703 - val_acc: 0.6615 - val_top3_acc: 0.8449\n",
      "Epoch 44/50\n",
      "31120/31120 [==============================] - 10s 307us/step - loss: 0.7895 - acc: 0.7422 - top3_acc: 0.9007 - val_loss: 1.1236 - val_acc: 0.6688 - val_top3_acc: 0.8444\n",
      "Epoch 45/50\n",
      "31120/31120 [==============================] - 10s 313us/step - loss: 0.7680 - acc: 0.7468 - top3_acc: 0.9060 - val_loss: 1.1136 - val_acc: 0.6657 - val_top3_acc: 0.8526\n"
     ]
    },
    {
     "name": "stdout",
     "output_type": "stream",
     "text": [
      "Epoch 46/50\n",
      "31120/31120 [==============================] - 10s 308us/step - loss: 0.7515 - acc: 0.7544 - top3_acc: 0.9074 - val_loss: 1.0903 - val_acc: 0.6706 - val_top3_acc: 0.8503\n",
      "Epoch 47/50\n",
      "31120/31120 [==============================] - 10s 314us/step - loss: 0.7403 - acc: 0.7587 - top3_acc: 0.9099 - val_loss: 1.1380 - val_acc: 0.6734 - val_top3_acc: 0.8519\n",
      "Epoch 48/50\n",
      "31120/31120 [==============================] - 10s 308us/step - loss: 0.7216 - acc: 0.7665 - top3_acc: 0.9130 - val_loss: 1.1184 - val_acc: 0.6688 - val_top3_acc: 0.8492\n",
      "Epoch 49/50\n",
      "31120/31120 [==============================] - 10s 311us/step - loss: 0.7075 - acc: 0.7695 - top3_acc: 0.9154 - val_loss: 1.1525 - val_acc: 0.6755 - val_top3_acc: 0.8528\n",
      "Epoch 50/50\n",
      "31120/31120 [==============================] - 10s 310us/step - loss: 0.7063 - acc: 0.7711 - top3_acc: 0.9165 - val_loss: 1.1069 - val_acc: 0.6752 - val_top3_acc: 0.8510\n"
     ]
    }
   ],
   "source": [
    "hist = model.fit(X_train, y_train, validation_data=(X_test, y_test), epochs=50, batch_size=128)"
   ]
  },
  {
   "cell_type": "code",
   "execution_count": 101,
   "metadata": {},
   "outputs": [
    {
     "data": {
      "text/plain": [
       "<matplotlib.legend.Legend at 0x7f6d9a405898>"
      ]
     },
     "execution_count": 101,
     "metadata": {},
     "output_type": "execute_result"
    },
    {
     "data": {
      "image/png": "[encoded data removed]",
      "text/plain": [
       "<Figure size 1080x360 with 2 Axes>"
      ]
     },
     "metadata": {
      "needs_background": "light"
     },
     "output_type": "display_data"
    }
   ],
   "source": [
    "fig, ax = plt.subplots(1, 2, figsize=(15,5))\n",
    "ax[0].set_title('loss')\n",
    "ax[0].plot(hist.epoch, hist.history[\"loss\"], label=\"Train loss\")\n",
    "ax[0].plot(hist.epoch, hist.history[\"val_loss\"], label=\"Validation loss\")\n",
    "ax[1].set_title('categorical_accuracy')\n",
    "ax[1].plot(hist.epoch, hist.history[\"acc\"], label=\"Train categorical_accuracy\")\n",
    "ax[1].plot(hist.epoch, hist.history[\"val_acc\"], label=\"Validation categorical_accuracy\")\n",
    "ax[0].legend()\n",
    "ax[1].legend()"
   ]
  },
  {
   "cell_type": "markdown",
   "metadata": {},
   "source": [
    " Display Results"
   ]
  },
  {
   "cell_type": "code",
   "execution_count": 102,
   "metadata": {},
   "outputs": [
    {
     "name": "stdout",
     "output_type": "stream",
     "text": [
      "Train accuracy = 0.8612789203084833\n",
      "Test accuracy = 0.6752345456882148\n"
     ]
    },
    {
     "data": {
      "image/png": "[encoded data removed]",
      "text/plain": [
       "<Figure size 720x720 with 2 Axes>"
      ]
     },
     "metadata": {
      "needs_background": "light"
     },
     "output_type": "display_data"
    },
    {
     "name": "stdout",
     "output_type": "stream",
     "text": [
      "                   precision    recall  f1-score   support\n",
      "\n",
      "        HYDROLASE       0.71      0.78      0.75      2210\n",
      "    IMMUNE SYSTEM       0.88      0.76      0.82       495\n",
      "        ISOMERASE       0.60      0.39      0.47       308\n",
      "            LYASE       0.61      0.49      0.55       442\n",
      "   OXIDOREDUCTASE       0.75      0.75      0.75      1243\n",
      "SIGNALING PROTEIN       0.40      0.33      0.36       377\n",
      "    TRANSCRIPTION       0.50      0.56      0.53       438\n",
      "      TRANSFERASE       0.66      0.74      0.70      1603\n",
      "TRANSPORT PROTEIN       0.63      0.46      0.53       372\n",
      "    VIRAL PROTEIN       0.61      0.48      0.54       293\n",
      "\n",
      "        micro avg       0.68      0.68      0.68      7781\n",
      "        macro avg       0.63      0.58      0.60      7781\n",
      "     weighted avg       0.67      0.68      0.67      7781\n",
      "\n"
     ]
    }
   ],
   "source": [
    "from sklearn.metrics import confusion_matrix\n",
    "from sklearn.metrics import accuracy_score\n",
    "from sklearn.metrics import classification_report\n",
    "import itertools\n",
    "import matplotlib.pyplot as plt\n",
    "\n",
    "train_pred = model.predict(X_train)\n",
    "test_pred = model.predict(X_test)\n",
    "print(\"Train accuracy = \" + str(accuracy_score(np.argmax(y_train, axis=1), np.argmax(train_pred, axis=1))))\n",
    "print(\"Test accuracy = \" + str(accuracy_score(np.argmax(y_test, axis=1), np.argmax(test_pred, axis=1))))\n",
    "\n",
    "# Compute confusion matrix\n",
    "cm = confusion_matrix(np.argmax(y_test, axis=1), np.argmax(test_pred, axis=1))\n",
    "\n",
    "# Plot normalized confusion matrix\n",
    "cm = cm.astype('float') / cm.sum(axis=1)[:, np.newaxis]\n",
    "np.set_printoptions(precision=2)\n",
    "plt.figure(figsize=(10,10))\n",
    "plt.imshow(cm, interpolation='nearest', cmap=plt.cm.Blues)\n",
    "plt.title('Confusion matrix', fontsize = 16)\n",
    "plt.colorbar()\n",
    "tick_marks = np.arange(len(lb.classes_))\n",
    "plt.xticks(tick_marks, lb.classes_, rotation=90)\n",
    "plt.yticks(tick_marks, lb.classes_)\n",
    "plt.ylabel('True label',fontsize = 16)\n",
    "plt.xlabel('Predicted label',fontsize = 16)\n",
    "plt.show()\n",
    "\n",
    "print(classification_report(np.argmax(y_test, axis=1), np.argmax(test_pred, axis=1), target_names=lb.classes_))"
   ]
  },
  {
   "cell_type": "markdown",
   "metadata": {},
   "source": [
    "## CNN"
   ]
  },
  {
   "cell_type": "code",
   "execution_count": 93,
   "metadata": {},
   "outputs": [
    {
     "name": "stdout",
     "output_type": "stream",
     "text": [
      "_________________________________________________________________\n",
      "Layer (type)                 Output Shape              Param #   \n",
      "=================================================================\n",
      "embedding_27 (Embedding)     (None, 256, 20)           520       \n",
      "_________________________________________________________________\n",
      "conv1d_44 (Conv1D)           (None, 254, 128)          7808      \n",
      "_________________________________________________________________\n",
      "dropout_56 (Dropout)         (None, 254, 128)          0         \n",
      "_________________________________________________________________\n",
      "max_pooling1d_35 (MaxPooling (None, 127, 128)          0         \n",
      "_________________________________________________________________\n",
      "conv1d_45 (Conv1D)           (None, 126, 64)           16448     \n",
      "_________________________________________________________________\n",
      "dropout_57 (Dropout)         (None, 126, 64)           0         \n",
      "_________________________________________________________________\n",
      "max_pooling1d_36 (MaxPooling (None, 63, 64)            0         \n",
      "_________________________________________________________________\n",
      "flatten_18 (Flatten)         (None, 4032)              0         \n",
      "_________________________________________________________________\n",
      "dense_57 (Dense)             (None, 64)                258112    \n",
      "_________________________________________________________________\n",
      "dropout_58 (Dropout)         (None, 64)                0         \n",
      "_________________________________________________________________\n",
      "dense_58 (Dense)             (None, 10)                650       \n",
      "=================================================================\n",
      "Total params: 283,538\n",
      "Trainable params: 283,538\n",
      "Non-trainable params: 0\n",
      "_________________________________________________________________\n",
      "None\n"
     ]
    }
   ],
   "source": [
    "from keras.models import Sequential\n",
    "from keras.layers import Dense, Conv1D, MaxPooling1D, Flatten, Dropout, BatchNormalization\n",
    "from keras.layers.embeddings import Embedding\n",
    "from keras import regularizers\n",
    "\n",
    "# Hyperparameters\n",
    "embedding_dim = 20\n",
    "dp = 0.3\n",
    "\n",
    "# create the model\n",
    "model = Sequential()\n",
    "model.add(Embedding(len(tokenizer.word_index)+1, embedding_dim, input_length=max_length))\n",
    "model.add(Conv1D(filters=128, kernel_size=3, padding='valid', activation='relu'))\n",
    "model.add(Dropout(dp))\n",
    "model.add(MaxPooling1D(pool_size=2))\n",
    "model.add(Conv1D(filters=64, kernel_size=2, padding='valid', activation='relu'))\n",
    "model.add(Dropout(dp))\n",
    "model.add(MaxPooling1D(pool_size=2))\n",
    "model.add(Flatten())\n",
    "model.add(Dense(64, activation='relu'))\n",
    "model.add(Dropout(dp))\n",
    "model.add(Dense(top_value, activation='softmax'))\n",
    "model.compile(loss='categorical_crossentropy', optimizer='adam', metrics=['accuracy',top3_acc])\n",
    "print(model.summary())"
   ]
  },
  {
   "cell_type": "markdown",
   "metadata": {},
   "source": [
    "Split train and test sets"
   ]
  },
  {
   "cell_type": "code",
   "execution_count": 94,
   "metadata": {},
   "outputs": [],
   "source": [
    "from sklearn.model_selection import train_test_split\n",
    "X_train, X_test, y_train, y_test = train_test_split(X, Y, test_size=.2)"
   ]
  },
  {
   "cell_type": "markdown",
   "metadata": {},
   "source": [
    "Train model"
   ]
  },
  {
   "cell_type": "code",
   "execution_count": 95,
   "metadata": {
    "scrolled": true
   },
   "outputs": [
    {
     "name": "stdout",
     "output_type": "stream",
     "text": [
      "Train on 31120 samples, validate on 7781 samples\n",
      "Epoch 1/100\n",
      "31120/31120 [==============================] - 6s 182us/step - loss: 1.8824 - acc: 0.3124 - top3_acc: 0.6891 - val_loss: 1.7303 - val_acc: 0.4041 - val_top3_acc: 0.7319\n",
      "Epoch 2/100\n",
      "31120/31120 [==============================] - 3s 81us/step - loss: 1.6705 - acc: 0.4053 - top3_acc: 0.7376 - val_loss: 1.6058 - val_acc: 0.4391 - val_top3_acc: 0.7535\n",
      "Epoch 3/100\n",
      "31120/31120 [==============================] - 3s 81us/step - loss: 1.5743 - acc: 0.4441 - top3_acc: 0.7575 - val_loss: 1.5406 - val_acc: 0.4729 - val_top3_acc: 0.7714\n",
      "Epoch 4/100\n",
      "31120/31120 [==============================] - 3s 85us/step - loss: 1.5023 - acc: 0.4757 - top3_acc: 0.7771 - val_loss: 1.5016 - val_acc: 0.4706 - val_top3_acc: 0.7780\n",
      "Epoch 5/100\n",
      "31120/31120 [==============================] - 3s 96us/step - loss: 1.4307 - acc: 0.5005 - top3_acc: 0.7944 - val_loss: 1.4229 - val_acc: 0.5227 - val_top3_acc: 0.7951\n",
      "Epoch 6/100\n",
      "31120/31120 [==============================] - 3s 87us/step - loss: 1.3695 - acc: 0.5195 - top3_acc: 0.8070 - val_loss: 1.3809 - val_acc: 0.5475 - val_top3_acc: 0.8088\n",
      "Epoch 7/100\n",
      "31120/31120 [==============================] - 3s 81us/step - loss: 1.3113 - acc: 0.5416 - top3_acc: 0.8183 - val_loss: 1.3311 - val_acc: 0.5588 - val_top3_acc: 0.8109\n",
      "Epoch 8/100\n",
      "31120/31120 [==============================] - 3s 84us/step - loss: 1.2684 - acc: 0.5533 - top3_acc: 0.8268 - val_loss: 1.3063 - val_acc: 0.5609 - val_top3_acc: 0.8158\n",
      "Epoch 9/100\n",
      "31120/31120 [==============================] - 2s 78us/step - loss: 1.2271 - acc: 0.5718 - top3_acc: 0.8362 - val_loss: 1.2799 - val_acc: 0.5786 - val_top3_acc: 0.8233\n",
      "Epoch 10/100\n",
      "31120/31120 [==============================] - 2s 79us/step - loss: 1.1785 - acc: 0.5885 - top3_acc: 0.8482 - val_loss: 1.2536 - val_acc: 0.5864 - val_top3_acc: 0.8288\n",
      "Epoch 11/100\n",
      "31120/31120 [==============================] - 3s 82us/step - loss: 1.1431 - acc: 0.5978 - top3_acc: 0.8566 - val_loss: 1.2511 - val_acc: 0.5839 - val_top3_acc: 0.8242\n",
      "Epoch 12/100\n",
      "31120/31120 [==============================] - 3s 94us/step - loss: 1.1187 - acc: 0.6082 - top3_acc: 0.8613 - val_loss: 1.2175 - val_acc: 0.5980 - val_top3_acc: 0.8279\n",
      "Epoch 13/100\n",
      "31120/31120 [==============================] - 3s 94us/step - loss: 1.0880 - acc: 0.6156 - top3_acc: 0.8664 - val_loss: 1.2131 - val_acc: 0.6026 - val_top3_acc: 0.8291\n",
      "Epoch 14/100\n",
      "31120/31120 [==============================] - 3s 84us/step - loss: 1.0608 - acc: 0.6240 - top3_acc: 0.8705 - val_loss: 1.2044 - val_acc: 0.6092 - val_top3_acc: 0.8284\n",
      "Epoch 15/100\n",
      "31120/31120 [==============================] - 2s 78us/step - loss: 1.0347 - acc: 0.6315 - top3_acc: 0.8762 - val_loss: 1.1804 - val_acc: 0.6115 - val_top3_acc: 0.8370\n",
      "Epoch 16/100\n",
      "31120/31120 [==============================] - 3s 81us/step - loss: 1.0131 - acc: 0.6376 - top3_acc: 0.8835 - val_loss: 1.1760 - val_acc: 0.6157 - val_top3_acc: 0.8293\n",
      "Epoch 17/100\n",
      "31120/31120 [==============================] - 2s 80us/step - loss: 0.9930 - acc: 0.6457 - top3_acc: 0.8863 - val_loss: 1.1704 - val_acc: 0.6215 - val_top3_acc: 0.8388\n",
      "Epoch 18/100\n",
      "31120/31120 [==============================] - 3s 82us/step - loss: 0.9736 - acc: 0.6521 - top3_acc: 0.8885 - val_loss: 1.1742 - val_acc: 0.6193 - val_top3_acc: 0.8397\n",
      "Epoch 19/100\n",
      "31120/31120 [==============================] - 3s 90us/step - loss: 0.9595 - acc: 0.6527 - top3_acc: 0.8927 - val_loss: 1.1626 - val_acc: 0.6255 - val_top3_acc: 0.8383\n",
      "Epoch 20/100\n",
      "31120/31120 [==============================] - 3s 93us/step - loss: 0.9467 - acc: 0.6591 - top3_acc: 0.8932 - val_loss: 1.1596 - val_acc: 0.6264 - val_top3_acc: 0.8406\n",
      "Epoch 21/100\n",
      "31120/31120 [==============================] - 3s 83us/step - loss: 0.9378 - acc: 0.6630 - top3_acc: 0.8963 - val_loss: 1.1564 - val_acc: 0.6300 - val_top3_acc: 0.8426\n",
      "Epoch 22/100\n",
      "31120/31120 [==============================] - 3s 81us/step - loss: 0.9054 - acc: 0.6725 - top3_acc: 0.9017 - val_loss: 1.1577 - val_acc: 0.6308 - val_top3_acc: 0.8391\n",
      "Epoch 23/100\n",
      "31120/31120 [==============================] - 3s 81us/step - loss: 0.8989 - acc: 0.6741 - top3_acc: 0.9045 - val_loss: 1.1526 - val_acc: 0.6340 - val_top3_acc: 0.8399\n",
      "Epoch 24/100\n",
      "31120/31120 [==============================] - 3s 89us/step - loss: 0.8898 - acc: 0.6797 - top3_acc: 0.9059 - val_loss: 1.1552 - val_acc: 0.6315 - val_top3_acc: 0.8406\n",
      "Epoch 25/100\n",
      "31120/31120 [==============================] - 3s 88us/step - loss: 0.8924 - acc: 0.6759 - top3_acc: 0.9057 - val_loss: 1.1422 - val_acc: 0.6336 - val_top3_acc: 0.8455\n",
      "Epoch 26/100\n",
      "31120/31120 [==============================] - 3s 85us/step - loss: 0.8683 - acc: 0.6841 - top3_acc: 0.9107 - val_loss: 1.1582 - val_acc: 0.6300 - val_top3_acc: 0.8427\n",
      "Epoch 27/100\n",
      "31120/31120 [==============================] - 3s 97us/step - loss: 0.8605 - acc: 0.6873 - top3_acc: 0.9120 - val_loss: 1.1344 - val_acc: 0.6386 - val_top3_acc: 0.8408\n",
      "Epoch 28/100\n",
      "31120/31120 [==============================] - 3s 93us/step - loss: 0.8435 - acc: 0.6929 - top3_acc: 0.9147 - val_loss: 1.1302 - val_acc: 0.6398 - val_top3_acc: 0.8432\n",
      "Epoch 29/100\n",
      "31120/31120 [==============================] - 3s 87us/step - loss: 0.8355 - acc: 0.6961 - top3_acc: 0.9156 - val_loss: 1.1272 - val_acc: 0.6457 - val_top3_acc: 0.8437\n",
      "Epoch 30/100\n",
      "31120/31120 [==============================] - 3s 89us/step - loss: 0.8241 - acc: 0.6976 - top3_acc: 0.9177 - val_loss: 1.1505 - val_acc: 0.6425 - val_top3_acc: 0.8426\n",
      "Epoch 31/100\n",
      "31120/31120 [==============================] - 3s 92us/step - loss: 0.8239 - acc: 0.7004 - top3_acc: 0.9182 - val_loss: 1.1240 - val_acc: 0.6422 - val_top3_acc: 0.8472\n",
      "Epoch 32/100\n",
      "31120/31120 [==============================] - 3s 89us/step - loss: 0.8040 - acc: 0.7066 - top3_acc: 0.9210 - val_loss: 1.1138 - val_acc: 0.6491 - val_top3_acc: 0.8448\n",
      "Epoch 33/100\n",
      "31120/31120 [==============================] - 3s 86us/step - loss: 0.8042 - acc: 0.7059 - top3_acc: 0.9217 - val_loss: 1.1326 - val_acc: 0.6419 - val_top3_acc: 0.8464\n",
      "Epoch 34/100\n",
      "31120/31120 [==============================] - 3s 94us/step - loss: 0.7927 - acc: 0.7118 - top3_acc: 0.9221 - val_loss: 1.1239 - val_acc: 0.6475 - val_top3_acc: 0.8463\n",
      "Epoch 35/100\n",
      "31120/31120 [==============================] - 3s 93us/step - loss: 0.7766 - acc: 0.7131 - top3_acc: 0.9262 - val_loss: 1.1198 - val_acc: 0.6494 - val_top3_acc: 0.8489\n",
      "Epoch 36/100\n",
      "31120/31120 [==============================] - 3s 87us/step - loss: 0.7768 - acc: 0.7212 - top3_acc: 0.9263 - val_loss: 1.1197 - val_acc: 0.6522 - val_top3_acc: 0.8477\n",
      "Epoch 37/100\n",
      "31120/31120 [==============================] - 3s 86us/step - loss: 0.7730 - acc: 0.7154 - top3_acc: 0.9269 - val_loss: 1.1382 - val_acc: 0.6434 - val_top3_acc: 0.8432\n",
      "Epoch 38/100\n",
      "31120/31120 [==============================] - 2s 80us/step - loss: 0.7628 - acc: 0.7195 - top3_acc: 0.9274 - val_loss: 1.1255 - val_acc: 0.6482 - val_top3_acc: 0.8480\n",
      "Epoch 39/100\n",
      "31120/31120 [==============================] - 3s 86us/step - loss: 0.7491 - acc: 0.7244 - top3_acc: 0.9313 - val_loss: 1.1237 - val_acc: 0.6511 - val_top3_acc: 0.8486\n",
      "Epoch 40/100\n",
      "31120/31120 [==============================] - 3s 86us/step - loss: 0.7489 - acc: 0.7227 - top3_acc: 0.9329 - val_loss: 1.1202 - val_acc: 0.6530 - val_top3_acc: 0.8494\n",
      "Epoch 41/100\n",
      "31120/31120 [==============================] - 3s 94us/step - loss: 0.7570 - acc: 0.7243 - top3_acc: 0.9285 - val_loss: 1.1238 - val_acc: 0.6529 - val_top3_acc: 0.8489\n",
      "Epoch 42/100\n",
      "31120/31120 [==============================] - 3s 92us/step - loss: 0.7420 - acc: 0.7268 - top3_acc: 0.9332 - val_loss: 1.1252 - val_acc: 0.6531 - val_top3_acc: 0.8507\n",
      "Epoch 43/100\n",
      "31120/31120 [==============================] - 3s 86us/step - loss: 0.7414 - acc: 0.7308 - top3_acc: 0.9317 - val_loss: 1.1307 - val_acc: 0.6525 - val_top3_acc: 0.8464\n",
      "Epoch 44/100\n",
      "31120/31120 [==============================] - 2s 79us/step - loss: 0.7318 - acc: 0.7312 - top3_acc: 0.9337 - val_loss: 1.1225 - val_acc: 0.6588 - val_top3_acc: 0.8490\n",
      "Epoch 45/100\n",
      "31120/31120 [==============================] - 3s 82us/step - loss: 0.7184 - acc: 0.7350 - top3_acc: 0.9351 - val_loss: 1.1301 - val_acc: 0.6585 - val_top3_acc: 0.8485\n",
      "Epoch 46/100\n"
     ]
    },
    {
     "name": "stdout",
     "output_type": "stream",
     "text": [
      "31120/31120 [==============================] - 3s 84us/step - loss: 0.7202 - acc: 0.7346 - top3_acc: 0.9351 - val_loss: 1.1184 - val_acc: 0.6563 - val_top3_acc: 0.8500\n",
      "Epoch 47/100\n",
      "31120/31120 [==============================] - 2s 77us/step - loss: 0.7162 - acc: 0.7357 - top3_acc: 0.9361 - val_loss: 1.1188 - val_acc: 0.6580 - val_top3_acc: 0.8451\n",
      "Epoch 48/100\n",
      "31120/31120 [==============================] - 3s 92us/step - loss: 0.7136 - acc: 0.7383 - top3_acc: 0.9350 - val_loss: 1.1392 - val_acc: 0.6498 - val_top3_acc: 0.8437\n",
      "Epoch 49/100\n",
      "31120/31120 [==============================] - 3s 88us/step - loss: 0.7069 - acc: 0.7401 - top3_acc: 0.9371 - val_loss: 1.1210 - val_acc: 0.6556 - val_top3_acc: 0.8512\n",
      "Epoch 50/100\n",
      "31120/31120 [==============================] - 2s 78us/step - loss: 0.7060 - acc: 0.7437 - top3_acc: 0.9397 - val_loss: 1.1247 - val_acc: 0.6621 - val_top3_acc: 0.8509\n",
      "Epoch 51/100\n",
      "31120/31120 [==============================] - 3s 82us/step - loss: 0.7035 - acc: 0.7442 - top3_acc: 0.9379 - val_loss: 1.1254 - val_acc: 0.6655 - val_top3_acc: 0.8523\n",
      "Epoch 52/100\n",
      "31120/31120 [==============================] - 3s 83us/step - loss: 0.6903 - acc: 0.7423 - top3_acc: 0.9390 - val_loss: 1.1188 - val_acc: 0.6614 - val_top3_acc: 0.8453\n",
      "Epoch 53/100\n",
      "31120/31120 [==============================] - 3s 83us/step - loss: 0.6889 - acc: 0.7466 - top3_acc: 0.9397 - val_loss: 1.1201 - val_acc: 0.6621 - val_top3_acc: 0.8526\n",
      "Epoch 54/100\n",
      "31120/31120 [==============================] - 3s 84us/step - loss: 0.6932 - acc: 0.7455 - top3_acc: 0.9403 - val_loss: 1.1475 - val_acc: 0.6560 - val_top3_acc: 0.8482\n",
      "Epoch 55/100\n",
      "31120/31120 [==============================] - 3s 86us/step - loss: 0.6836 - acc: 0.7483 - top3_acc: 0.9417 - val_loss: 1.1210 - val_acc: 0.6579 - val_top3_acc: 0.8507\n",
      "Epoch 56/100\n",
      "31120/31120 [==============================] - 3s 94us/step - loss: 0.6773 - acc: 0.7508 - top3_acc: 0.9416 - val_loss: 1.1246 - val_acc: 0.6603 - val_top3_acc: 0.8509\n",
      "Epoch 57/100\n",
      "31120/31120 [==============================] - 3s 91us/step - loss: 0.6752 - acc: 0.7546 - top3_acc: 0.9432 - val_loss: 1.1401 - val_acc: 0.6596 - val_top3_acc: 0.8521\n",
      "Epoch 58/100\n",
      "31120/31120 [==============================] - 3s 82us/step - loss: 0.6649 - acc: 0.7554 - top3_acc: 0.9431 - val_loss: 1.1412 - val_acc: 0.6598 - val_top3_acc: 0.8499\n",
      "Epoch 59/100\n",
      "31120/31120 [==============================] - 3s 85us/step - loss: 0.6675 - acc: 0.7555 - top3_acc: 0.9429 - val_loss: 1.1313 - val_acc: 0.6660 - val_top3_acc: 0.8498\n",
      "Epoch 60/100\n",
      "31120/31120 [==============================] - 3s 89us/step - loss: 0.6688 - acc: 0.7553 - top3_acc: 0.9412 - val_loss: 1.1305 - val_acc: 0.6635 - val_top3_acc: 0.8498\n",
      "Epoch 61/100\n",
      "31120/31120 [==============================] - 3s 84us/step - loss: 0.6556 - acc: 0.7609 - top3_acc: 0.9449 - val_loss: 1.1086 - val_acc: 0.6686 - val_top3_acc: 0.8540\n",
      "Epoch 62/100\n",
      "31120/31120 [==============================] - 3s 91us/step - loss: 0.6581 - acc: 0.7598 - top3_acc: 0.9437 - val_loss: 1.1315 - val_acc: 0.6574 - val_top3_acc: 0.8500\n",
      "Epoch 63/100\n",
      "31120/31120 [==============================] - 3s 94us/step - loss: 0.6590 - acc: 0.7578 - top3_acc: 0.9455 - val_loss: 1.1231 - val_acc: 0.6592 - val_top3_acc: 0.8500\n",
      "Epoch 64/100\n",
      "31120/31120 [==============================] - 3s 92us/step - loss: 0.6438 - acc: 0.7609 - top3_acc: 0.9473 - val_loss: 1.1216 - val_acc: 0.6643 - val_top3_acc: 0.8485\n",
      "Epoch 65/100\n",
      "31120/31120 [==============================] - 3s 88us/step - loss: 0.6490 - acc: 0.7603 - top3_acc: 0.9475 - val_loss: 1.1448 - val_acc: 0.6646 - val_top3_acc: 0.8526\n",
      "Epoch 66/100\n",
      "31120/31120 [==============================] - 3s 88us/step - loss: 0.6500 - acc: 0.7612 - top3_acc: 0.9462 - val_loss: 1.1302 - val_acc: 0.6643 - val_top3_acc: 0.8508\n",
      "Epoch 67/100\n",
      "31120/31120 [==============================] - 3s 81us/step - loss: 0.6448 - acc: 0.7650 - top3_acc: 0.9470 - val_loss: 1.1270 - val_acc: 0.6620 - val_top3_acc: 0.8504\n",
      "Epoch 68/100\n",
      "31120/31120 [==============================] - 3s 87us/step - loss: 0.6473 - acc: 0.7632 - top3_acc: 0.9478 - val_loss: 1.1225 - val_acc: 0.6659 - val_top3_acc: 0.8534\n",
      "Epoch 69/100\n",
      "31120/31120 [==============================] - 3s 92us/step - loss: 0.6321 - acc: 0.7676 - top3_acc: 0.9510 - val_loss: 1.1260 - val_acc: 0.6678 - val_top3_acc: 0.8498\n",
      "Epoch 70/100\n",
      "31120/31120 [==============================] - 3s 96us/step - loss: 0.6370 - acc: 0.7650 - top3_acc: 0.9486 - val_loss: 1.1128 - val_acc: 0.6661 - val_top3_acc: 0.8500\n",
      "Epoch 71/100\n",
      "31120/31120 [==============================] - 3s 89us/step - loss: 0.6306 - acc: 0.7672 - top3_acc: 0.9480 - val_loss: 1.1202 - val_acc: 0.6646 - val_top3_acc: 0.8492\n",
      "Epoch 72/100\n",
      "31120/31120 [==============================] - 3s 89us/step - loss: 0.6369 - acc: 0.7682 - top3_acc: 0.9487 - val_loss: 1.1197 - val_acc: 0.6669 - val_top3_acc: 0.8518\n",
      "Epoch 73/100\n",
      "31120/31120 [==============================] - 3s 88us/step - loss: 0.6252 - acc: 0.7703 - top3_acc: 0.9506 - val_loss: 1.1331 - val_acc: 0.6628 - val_top3_acc: 0.8474\n",
      "Epoch 74/100\n",
      "31120/31120 [==============================] - 3s 86us/step - loss: 0.6286 - acc: 0.7699 - top3_acc: 0.9488 - val_loss: 1.1438 - val_acc: 0.6655 - val_top3_acc: 0.8505\n",
      "Epoch 75/100\n",
      "31120/31120 [==============================] - 3s 81us/step - loss: 0.6308 - acc: 0.7662 - top3_acc: 0.9493 - val_loss: 1.1299 - val_acc: 0.6629 - val_top3_acc: 0.8473\n",
      "Epoch 76/100\n",
      "31120/31120 [==============================] - 3s 85us/step - loss: 0.6204 - acc: 0.7735 - top3_acc: 0.9512 - val_loss: 1.1351 - val_acc: 0.6702 - val_top3_acc: 0.8510\n",
      "Epoch 77/100\n",
      "31120/31120 [==============================] - 3s 89us/step - loss: 0.6221 - acc: 0.7698 - top3_acc: 0.9533 - val_loss: 1.1147 - val_acc: 0.6683 - val_top3_acc: 0.8544\n",
      "Epoch 78/100\n",
      "31120/31120 [==============================] - 3s 82us/step - loss: 0.6235 - acc: 0.7710 - top3_acc: 0.9507 - val_loss: 1.1300 - val_acc: 0.6673 - val_top3_acc: 0.8527\n",
      "Epoch 79/100\n",
      "31120/31120 [==============================] - 2s 80us/step - loss: 0.6170 - acc: 0.7749 - top3_acc: 0.9511 - val_loss: 1.1192 - val_acc: 0.6710 - val_top3_acc: 0.8526\n",
      "Epoch 80/100\n",
      "31120/31120 [==============================] - 3s 81us/step - loss: 0.6196 - acc: 0.7734 - top3_acc: 0.9514 - val_loss: 1.1205 - val_acc: 0.6683 - val_top3_acc: 0.8525\n",
      "Epoch 81/100\n",
      "31120/31120 [==============================] - 3s 85us/step - loss: 0.6213 - acc: 0.7721 - top3_acc: 0.9520 - val_loss: 1.1218 - val_acc: 0.6650 - val_top3_acc: 0.8525\n",
      "Epoch 82/100\n",
      "31120/31120 [==============================] - 3s 85us/step - loss: 0.6082 - acc: 0.7750 - top3_acc: 0.9517 - val_loss: 1.1101 - val_acc: 0.6683 - val_top3_acc: 0.8496\n",
      "Epoch 83/100\n",
      "31120/31120 [==============================] - 2s 79us/step - loss: 0.6013 - acc: 0.7788 - top3_acc: 0.9553 - val_loss: 1.1217 - val_acc: 0.6727 - val_top3_acc: 0.8531\n",
      "Epoch 84/100\n",
      "31120/31120 [==============================] - 3s 89us/step - loss: 0.6034 - acc: 0.7795 - top3_acc: 0.9532 - val_loss: 1.1319 - val_acc: 0.6689 - val_top3_acc: 0.8500\n",
      "Epoch 85/100\n",
      "31120/31120 [==============================] - 3s 92us/step - loss: 0.6042 - acc: 0.7797 - top3_acc: 0.9535 - val_loss: 1.1134 - val_acc: 0.6714 - val_top3_acc: 0.8528\n",
      "Epoch 86/100\n",
      "31120/31120 [==============================] - 3s 82us/step - loss: 0.6016 - acc: 0.7794 - top3_acc: 0.9518 - val_loss: 1.1241 - val_acc: 0.6701 - val_top3_acc: 0.8504\n",
      "Epoch 87/100\n",
      "31120/31120 [==============================] - 3s 85us/step - loss: 0.5972 - acc: 0.7794 - top3_acc: 0.9524 - val_loss: 1.1437 - val_acc: 0.6659 - val_top3_acc: 0.8501\n",
      "Epoch 88/100\n",
      "31120/31120 [==============================] - 3s 82us/step - loss: 0.5957 - acc: 0.7821 - top3_acc: 0.9543 - val_loss: 1.1344 - val_acc: 0.6719 - val_top3_acc: 0.8521\n",
      "Epoch 89/100\n",
      "31120/31120 [==============================] - 3s 82us/step - loss: 0.5948 - acc: 0.7851 - top3_acc: 0.9545 - val_loss: 1.1384 - val_acc: 0.6655 - val_top3_acc: 0.8472\n",
      "Epoch 90/100\n",
      "31120/31120 [==============================] - 3s 84us/step - loss: 0.5970 - acc: 0.7826 - top3_acc: 0.9535 - val_loss: 1.1277 - val_acc: 0.6711 - val_top3_acc: 0.8504\n",
      "Epoch 91/100\n",
      "31120/31120 [==============================] - 3s 90us/step - loss: 0.5918 - acc: 0.7830 - top3_acc: 0.9544 - val_loss: 1.1349 - val_acc: 0.6674 - val_top3_acc: 0.8541\n",
      "Epoch 92/100\n",
      "31120/31120 [==============================] - 3s 93us/step - loss: 0.5972 - acc: 0.7818 - top3_acc: 0.9533 - val_loss: 1.1329 - val_acc: 0.6719 - val_top3_acc: 0.8508\n",
      "Epoch 93/100\n",
      "31120/31120 [==============================] - 3s 87us/step - loss: 0.5955 - acc: 0.7829 - top3_acc: 0.9538 - val_loss: 1.1468 - val_acc: 0.6630 - val_top3_acc: 0.8492\n",
      "Epoch 94/100\n",
      "31120/31120 [==============================] - 3s 83us/step - loss: 0.5807 - acc: 0.7867 - top3_acc: 0.9568 - val_loss: 1.1484 - val_acc: 0.6687 - val_top3_acc: 0.8528\n",
      "Epoch 95/100\n",
      "31120/31120 [==============================] - 2s 79us/step - loss: 0.5911 - acc: 0.7827 - top3_acc: 0.9549 - val_loss: 1.1504 - val_acc: 0.6673 - val_top3_acc: 0.8504\n",
      "Epoch 96/100\n",
      "31120/31120 [==============================] - 3s 86us/step - loss: 0.5830 - acc: 0.7865 - top3_acc: 0.9556 - val_loss: 1.1270 - val_acc: 0.6718 - val_top3_acc: 0.8491\n",
      "Epoch 97/100\n",
      "31120/31120 [==============================] - 3s 81us/step - loss: 0.5832 - acc: 0.7851 - top3_acc: 0.9561 - val_loss: 1.1355 - val_acc: 0.6702 - val_top3_acc: 0.8501\n",
      "Epoch 98/100\n",
      "31120/31120 [==============================] - 2s 78us/step - loss: 0.5859 - acc: 0.7853 - top3_acc: 0.9567 - val_loss: 1.1266 - val_acc: 0.6688 - val_top3_acc: 0.8522\n",
      "Epoch 99/100\n",
      "31120/31120 [==============================] - 3s 93us/step - loss: 0.5837 - acc: 0.7874 - top3_acc: 0.9564 - val_loss: 1.1176 - val_acc: 0.6720 - val_top3_acc: 0.8516\n",
      "Epoch 100/100\n",
      "31120/31120 [==============================] - 3s 90us/step - loss: 0.5818 - acc: 0.7888 - top3_acc: 0.9547 - val_loss: 1.1338 - val_acc: 0.6713 - val_top3_acc: 0.8535\n"
     ]
    }
   ],
   "source": [
    "hist2 = model.fit(X_train, y_train, validation_data=(X_test, y_test), epochs=100, batch_size=128)"
   ]
  },
  {
   "cell_type": "code",
   "execution_count": 96,
   "metadata": {},
   "outputs": [
    {
     "data": {
      "text/plain": [
       "<matplotlib.legend.Legend at 0x7f6d9b00a940>"
      ]
     },
     "execution_count": 96,
     "metadata": {},
     "output_type": "execute_result"
    },
    {
     "data": {
      "image/png": "[encoded data removed]",
      "text/plain": [
       "<Figure size 1080x360 with 2 Axes>"
      ]
     },
     "metadata": {
      "needs_background": "light"
     },
     "output_type": "display_data"
    }
   ],
   "source": [
    "fig, ax = plt.subplots(1, 2, figsize=(15,5))\n",
    "ax[0].set_title('loss')\n",
    "ax[0].plot(hist2.epoch, hist2.history[\"loss\"], label=\"Train loss\")\n",
    "ax[0].plot(hist2.epoch, hist2.history[\"val_loss\"], label=\"Validation loss\")\n",
    "ax[1].set_title('categorical_accuracy')\n",
    "ax[1].plot(hist2.epoch, hist2.history[\"acc\"], label=\"Train categorical_accuracy\")\n",
    "ax[1].plot(hist2.epoch, hist2.history[\"val_acc\"], label=\"Validation categorical_accuracy\")\n",
    "ax[0].legend()\n",
    "ax[1].legend()"
   ]
  },
  {
   "cell_type": "markdown",
   "metadata": {},
   "source": [
    " Display Results"
   ]
  },
  {
   "cell_type": "code",
   "execution_count": 97,
   "metadata": {
    "scrolled": false
   },
   "outputs": [
    {
     "name": "stdout",
     "output_type": "stream",
     "text": [
      "train-acc = 0.9626606683804627\n",
      "test-acc = 0.6712504819431949\n"
     ]
    },
    {
     "data": {
      "image/png": "[encoded data removed]",
      "text/plain": [
       "<Figure size 720x720 with 2 Axes>"
      ]
     },
     "metadata": {
      "needs_background": "light"
     },
     "output_type": "display_data"
    },
    {
     "name": "stdout",
     "output_type": "stream",
     "text": [
      "                   precision    recall  f1-score   support\n",
      "\n",
      "        HYDROLASE       0.66      0.77      0.71      2114\n",
      "    IMMUNE SYSTEM       0.90      0.75      0.82       536\n",
      "        ISOMERASE       0.74      0.50      0.60       317\n",
      "            LYASE       0.74      0.62      0.67       479\n",
      "   OXIDOREDUCTASE       0.68      0.77      0.72      1208\n",
      "SIGNALING PROTEIN       0.50      0.34      0.41       377\n",
      "    TRANSCRIPTION       0.61      0.52      0.56       441\n",
      "      TRANSFERASE       0.62      0.71      0.67      1632\n",
      "TRANSPORT PROTEIN       0.71      0.46      0.56       367\n",
      "    VIRAL PROTEIN       0.78      0.41      0.54       310\n",
      "\n",
      "        micro avg       0.67      0.67      0.67      7781\n",
      "        macro avg       0.69      0.59      0.63      7781\n",
      "     weighted avg       0.68      0.67      0.67      7781\n",
      "\n"
     ]
    }
   ],
   "source": [
    "from sklearn.metrics import confusion_matrix\n",
    "from sklearn.metrics import accuracy_score\n",
    "from sklearn.metrics import classification_report\n",
    "import itertools\n",
    "import matplotlib.pyplot as plt\n",
    "\n",
    "train_pred = model.predict(X_train)\n",
    "test_pred = model.predict(X_test)\n",
    "print(\"train-acc = \" + str(accuracy_score(np.argmax(y_train, axis=1), np.argmax(train_pred, axis=1))))\n",
    "print(\"test-acc = \" + str(accuracy_score(np.argmax(y_test, axis=1), np.argmax(test_pred, axis=1))))\n",
    "\n",
    "# Compute confusion matrix\n",
    "cm = confusion_matrix(np.argmax(y_test, axis=1), np.argmax(test_pred, axis=1))\n",
    "\n",
    "# Plot normalized confusion matrix\n",
    "cm = cm.astype('float') / cm.sum(axis=1)[:, np.newaxis]\n",
    "np.set_printoptions(precision=2)\n",
    "plt.figure(figsize=(10,10))\n",
    "plt.imshow(cm, interpolation='nearest', cmap=plt.cm.Blues)\n",
    "plt.title('Confusion matrix',fontsize = 16)\n",
    "plt.colorbar()\n",
    "tick_marks = np.arange(len(lb.classes_))\n",
    "plt.xticks(tick_marks, lb.classes_, rotation=90)\n",
    "plt.yticks(tick_marks, lb.classes_)\n",
    "plt.ylabel('True label',fontsize = 16)\n",
    "plt.xlabel('Predicted label',fontsize = 16)\n",
    "plt.show()\n",
    "\n",
    "print(classification_report(np.argmax(y_test, axis=1), np.argmax(test_pred, axis=1), target_names=lb.classes_))"
   ]
  },
  {
   "cell_type": "code",
   "execution_count": null,
   "metadata": {},
   "outputs": [],
   "source": []
  }
 ],
 "metadata": {
  "kernelspec": {
   "display_name": "Python 3",
   "language": "python",
   "name": "python3"
  },
  "language_info": {
   "codemirror_mode": {
    "name": "ipython",
    "version": 3
   },
   "file_extension": ".py",
   "mimetype": "text/x-python",
   "name": "python",
   "nbconvert_exporter": "python",
   "pygments_lexer": "ipython3",
   "version": "3.6.5"
  }
 },
 "nbformat": 4,
 "nbformat_minor": 2
}
